{
  "cells": [
    {
      "cell_type": "markdown",
      "id": "a18eb3dd",
      "metadata": {
        "id": "GRrCaKoAXq_w"
      },
      "source": [
        "This tutorial demonstrates training the Gemma 2B model on the GSM8K math\n",
        "reasoning benchmark using Group Relative Policy Optimization (GRPO). Learn how\n",
        "GRPO can enhance your model's problem-solving skills on mathematical word\n",
        "problems.\n",
        "\n",
        "GRPO is an RL algorithm designed to enhance the reasoning abilities of LLMs. It\n",
        "is a variant of Proximal Policy Optimization (PPO) that reduces memory usage by\n",
        "eliminating the need for a separate value function model. GRPO works by\n",
        "generating multiple responses for a given prompt, evaluating these responses\n",
        "using a reward model, and then calculating a relative advantage based on the\n",
        "group's performance to update the policy.\n",
        "\n",
        "In this tutorial we use Colab's `v2-8` TPU. Let's get started!"
      ]
    },
    {
      "cell_type": "markdown",
      "id": "77cc8736",
      "metadata": {
        "id": "yDN7v4YnXq_w"
      },
      "source": [
        "## Install necessary libraries"
      ]
    },
    {
      "cell_type": "code",
      "execution_count": null,
      "id": "301bff1f",
      "metadata": {
        "id": "VvyfOxcGXq_w"
      },
      "outputs": [],
      "source": [
        "!pip install -q jsonlines\n",
        "!pip install -q kagglehub\n",
        "\n",
        "!pip install -q tensorboardX\n",
        "!pip install -q grain\n",
        "!pip install -q git+https://github.com/google/tunix\n",
        "!pip install -q git+https://github.com/google/qwix\n",
        "\n",
        "# To make downloading from GCS possible.\n",
        "# TODO: Remove when we figure out how to make things\n",
        "# work without this.\n",
        "!pip install -q \\\n",
        "  cryptography==44.0.3 \\\n",
        "  tensorflow==2.19.0 \\\n",
        "  tensorflow-io-gcs-filesystem==0.37.1 \\\n",
        "  fsspec==2025.3.2 \\\n",
        "  \"fsspec[gcs]\" \\\n",
        "  protobuf==5.29.4\n",
        "\n",
        "!pip uninstall -q -y flax\n",
        "!pip install -q git+https://github.com/google/flax.git"
      ]
    },
    {
      "cell_type": "markdown",
      "id": "343c18df",
      "metadata": {
        "id": "fGJzs0xhXq_w"
      },
      "source": [
        "## Imports"
      ]
    },
    {
      "cell_type": "code",
      "execution_count": null,
      "id": "09a585e9",
      "metadata": {
        "id": "kFvfF3uEXq_w"
      },
      "outputs": [],
      "source": [
        "import functools\n",
        "import gc\n",
        "import os\n",
        "from pprint import pprint\n",
        "import re\n",
        "import time\n",
        "import urllib.request\n",
        "\n",
        "from flax import nnx\n",
        "import grain\n",
        "import humanize\n",
        "import jax\n",
        "import jax.numpy as jnp\n",
        "import jsonlines\n",
        "import kagglehub\n",
        "import optax\n",
        "from orbax import checkpoint as ocp\n",
        "from qwix import lora\n",
        "import tensorflow_datasets as tfds\n",
        "from tunix.examples.gemma_libs import data as data_lib\n",
        "from tunix.examples.gemma_libs import gemma as gemma_lib\n",
        "from tunix.examples.gemma_libs import params as params_lib\n",
        "from tunix.examples.gemma_libs import sampler as sampler_lib\n",
        "from tunix.rl.grpo.grpo_trainer import GrpoTrainer, GrpoTrainingConfig\n",
        "from tunix.sft import metrics_logger"
      ]
    },
    {
      "cell_type": "markdown",
      "id": "50477930",
      "metadata": {
        "id": "QeMGO8p6Xq_w"
      },
      "source": [
        "## Hyperparameters\n",
        "\n",
        "Let's define the configuration we are going to use. Note that this is by no\n",
        "means a \"perfect\" set of hyperparameters. To get good results, you will have\n",
        "to train the model for longer."
      ]
    },
    {
      "cell_type": "code",
      "execution_count": null,
      "id": "3f74a51d",
      "metadata": {
        "id": "xkMg0cQkXq_w"
      },
      "outputs": [],
      "source": [
        "# Data\n",
        "DATA_DIR = \"./data/\"\n",
        "BATCH_SIZE = 2\n",
        "# Increase `NUM_BATCHES` and `MAX_STEPS` for better results.\n",
        "NUM_BATCHES = 20\n",
        "\n",
        "# Reproducibility\n",
        "SEED = 42\n",
        "\n",
        "# Model\n",
        "MESH = [(1, 8), (\"fsdp\", \"tp\")]\n",
        "# LoRA\n",
        "RANK = 16\n",
        "ALPHA = 2.0\n",
        "\n",
        "# Train\n",
        "LEARNING_RATE = 5e-6\n",
        "B1 = 0.9\n",
        "B2 = 0.99\n",
        "WEIGHT_DECAY = 0.1\n",
        "NUM_EPOCHS = 3\n",
        "\n",
        "# GRPO\n",
        "MAX_PROMPT_LENGTH = 256\n",
        "TOTAL_GENERATION_STEPS = 768\n",
        "NUM_GENERATIONS = 2\n",
        "NUM_ITERATIONS = 4\n",
        "BETA = 0.04\n",
        "EPSILON = 0.2\n",
        "TEMPERATURE = 0.9\n",
        "TOP_P = 0.92\n",
        "EVAL_EVERY_N_STEPS = 1\n",
        "MAX_STEPS = 40 * NUM_EPOCHS\n",
        "\n",
        "# Checkpoint saving\n",
        "INTERMEDIATE_CKPT_DIR = \"/content/intermediate_ckpt/\"\n",
        "CKPT_DIR = \"/content/ckpts/\"\n",
        "SAVE_INTERVAL_STEPS = 1000\n",
        "MAX_TO_KEEP = 1"
      ]
    },
    {
      "cell_type": "markdown",
      "id": "a4d8932f",
      "metadata": {
        "id": "S0Uk_JnmXq_w"
      },
      "source": [
        "## Utility functions"
      ]
    },
    {
      "cell_type": "code",
      "execution_count": null,
      "id": "cb0b6085",
      "metadata": {
        "id": "514AwoWCXq_w"
      },
      "outputs": [],
      "source": [
        "def show_hbm_usage():\n",
        "  \"\"\"Displays memory usage per device.\"\"\"\n",
        "  fmt_size = functools.partial(humanize.naturalsize, binary=True)\n",
        "\n",
        "  for d in jax.local_devices():\n",
        "    stats = d.memory_stats()\n",
        "    used = stats[\"bytes_in_use\"]\n",
        "    limit = stats[\"bytes_limit\"]\n",
        "    print(f\"Using {fmt_size(used)} / {fmt_size(limit)} ({used/limit:%}) on {d}\")"
      ]
    },
    {
      "cell_type": "code",
      "execution_count": null,
      "id": "5d46e2cd",
      "metadata": {
        "id": "AF8IDc7TXq_w"
      },
      "outputs": [],
      "source": [
        "def unbatched_generate(sampler, question, total_generation_steps=768):\n",
        "  \"\"\"Generates completions, given a prompt.\"\"\"\n",
        "  input_batch = [\n",
        "      TEMPLATE.format(\n",
        "          system_prompt=SYSTEM_PROMPT,\n",
        "          question=question,\n",
        "      ),\n",
        "  ]\n",
        "\n",
        "  out_data = sampler(\n",
        "      input_strings=input_batch,\n",
        "      total_generation_steps=total_generation_steps,\n",
        "      echo=False,\n",
        "  )\n",
        "  return out_data.text[0]"
      ]
    },
    {
      "cell_type": "markdown",
      "id": "4a00c357",
      "metadata": {
        "id": "SJ2ICBkIXq_w"
      },
      "source": [
        "## Data preprocessing"
      ]
    },
    {
      "cell_type": "markdown",
      "id": "b0cb79ad",
      "metadata": {
        "id": "8Na879n-Xq_w"
      },
      "source": [
        "First, let's define some special tokens. We instruct the model to first reason\n",
        "between the `\u003cstart_working_out\u003e` and `\u003cend_working_out\u003e` tokens. After\n",
        "reasoning, we expect it to provide the exact numerical answer between the\n",
        "`\u003cSOLUTION\u003e` and `\u003c/SOLUTION\u003e` tokens."
      ]
    },
    {
      "cell_type": "code",
      "execution_count": null,
      "id": "804cd55a",
      "metadata": {
        "id": "61wMQxyCXq_w"
      },
      "outputs": [],
      "source": [
        "reasoning_start = \"\u003cstart_working_out\u003e\"\n",
        "reasoning_end = \"\u003cend_working_out\u003e\"\n",
        "solution_start = \"\u003cSOLUTION\u003e\"\n",
        "solution_end = \"\u003c/SOLUTION\u003e\"\n",
        "\n",
        "SYSTEM_PROMPT = f\"\"\"You are given a problem.\n",
        "Think about the problem and provide your working out.\n",
        "Place it between {reasoning_start} and {reasoning_end}.\n",
        "Then, provide your solution between {solution_start} and {solution_end}\"\"\"\n",
        "\n",
        "TEMPLATE = \"\"\"\u003cstart_of_turn\u003euser\n",
        "{system_prompt}\n",
        "\n",
        "{question}\u003cend_of_turn\u003e\n",
        "\u003cstart_of_turn\u003emodel\n",
        "\"\"\""
      ]
    },
    {
      "cell_type": "markdown",
      "id": "b9ee7b38",
      "metadata": {
        "id": "_tCOrNxoXq_w"
      },
      "source": [
        "We use OpenAI's GSM8K dataset. GSM8K comprises grade school math word problems."
      ]
    },
    {
      "cell_type": "code",
      "execution_count": null,
      "id": "6763f60f",
      "metadata": {
        "id": "7XAb4x9mXq_w"
      },
      "outputs": [],
      "source": [
        "def extract_hash_answer(text: str) -\u003e str | None:\n",
        "  if \"####\" not in text:\n",
        "    return None\n",
        "  return text.split(\"####\")[1].strip()\n",
        "\n",
        "\n",
        "def get_dataset() -\u003e grain.MapDataset:\n",
        "\n",
        "  # Download data\n",
        "  if not os.path.exists(DATA_DIR):\n",
        "    os.makedirs(DATA_DIR)\n",
        "\n",
        "  data = tfds.data_source(\n",
        "      \"gsm8k\",\n",
        "      split=\"train\",\n",
        "      data_dir=DATA_DIR,\n",
        "      builder_kwargs={\"file_format\": tfds.core.FileFormat.ARRAY_RECORD},\n",
        "      download=True,\n",
        "  )\n",
        "\n",
        "  dataset = (\n",
        "      grain.MapDataset.source(data)\n",
        "      .shuffle(seed=SEED)\n",
        "      .map(\n",
        "          lambda x: {\n",
        "              # passed to model forward pass\n",
        "              \"prompts\": TEMPLATE.format(\n",
        "                  system_prompt=SYSTEM_PROMPT,\n",
        "                  question=x[\"question\"].decode(\"utf-8\"),\n",
        "              ),\n",
        "              # passed to reward functions\n",
        "              \"question\": x[\"question\"].decode(\"utf-8\"),\n",
        "              # passed to reward functions\n",
        "              \"answer\": extract_hash_answer(x[\"answer\"].decode(\"utf-8\")),\n",
        "          }\n",
        "      )\n",
        "  )\n",
        "  return dataset"
      ]
    },
    {
      "cell_type": "code",
      "execution_count": null,
      "id": "e4697094",
      "metadata": {
        "id": "j_X2XkjiXq_w"
      },
      "outputs": [],
      "source": [
        "dataset = get_dataset().batch(BATCH_SIZE)[:NUM_BATCHES].repeat(NUM_EPOCHS)"
      ]
    },
    {
      "cell_type": "markdown",
      "id": "4f4e8e13",
      "metadata": {
        "id": "oiRqt1JbXq_w"
      },
      "source": [
        "Let's see how one batch of the dataset looks like!\n"
      ]
    },
    {
      "cell_type": "code",
      "execution_count": null,
      "id": "db53d10c",
      "metadata": {
        "id": "-RS3D-J_Xq_w"
      },
      "outputs": [],
      "source": [
        "for element in dataset:\n",
        "  pprint(element)\n",
        "  break"
      ]
    },
    {
      "cell_type": "markdown",
      "id": "4e3518b8",
      "metadata": {
        "id": "9Umf7K4wXq_w"
      },
      "source": [
        "## Load the policy model and the reference model\n",
        "\n",
        "The policy model is the model which is actually trained and whose weights are\n",
        "updated. The reference model is the model with which we compute KL\n",
        "divergence. This is to ensure that the policy updates are not huge and that it\n",
        "does not deviate too much from the reference model.\n",
        "\n",
        "Typically, the reference model is the base model, and the policy model is the\n",
        "same base model, but with LoRA parameters. Only the LoRA parameters are\n",
        "updated.\n",
        "\n",
        "To load the model, you need to be on [Kaggle](https://www.kaggle.com/) and need\n",
        "to have agreed to the Gemma license\n",
        "[here](https://www.kaggle.com/models/google/gemma/flax/)."
      ]
    },
    {
      "metadata": {
        "id": "cltp_e6wL_tu"
      },
      "cell_type": "code",
      "source": [
        "# Log in\n",
        "if \"KAGGLE_USERNAME\" not in os.environ or \"KAGGLE_KEY\" not in os.environ:\n",
        "  kagglehub.login()"
      ],
      "outputs": [],
      "execution_count": null
    },
    {
      "cell_type": "code",
      "execution_count": null,
      "id": "32543437",
      "metadata": {
        "id": "-UG3s3spXq_x"
      },
      "outputs": [],
      "source": [
        "ckpt_path = kagglehub.model_download(\"google/gemma/flax/2b-it\")"
      ]
    },
    {
      "cell_type": "code",
      "execution_count": null,
      "id": "dc7ed007",
      "metadata": {
        "id": "U4SjfVl8Xq_x"
      },
      "outputs": [],
      "source": [
        "# This is a workaround. The checkpoints on Kaggle don't work with NNX. So, we\n",
        "# load the model, save the checkpoint locally, and then reload the model\n",
        "# (sharded).\n",
        "params = params_lib.load_and_format_params(os.path.join(ckpt_path, \"2b-it\"))\n",
        "gemma = gemma_lib.Transformer.from_params(params, version=\"2b-it\")\n",
        "checkpointer = ocp.StandardCheckpointer()\n",
        "_, state = nnx.split(gemma)\n",
        "checkpointer.save(os.path.join(INTERMEDIATE_CKPT_DIR, \"state\"), state)"
      ]
    },
    {
      "cell_type": "code",
      "execution_count": null,
      "id": "109efaa5",
      "metadata": {
        "id": "lhffgGyeXq_x"
      },
      "outputs": [],
      "source": [
        "# Wait for the ckpt to save successfully.\n",
        "time.sleep(30)"
      ]
    },
    {
      "cell_type": "code",
      "execution_count": null,
      "id": "f211b979",
      "metadata": {
        "id": "yIpcesc4Xq_x"
      },
      "outputs": [],
      "source": [
        "# Delete the intermediate model to save memory.\n",
        "del params\n",
        "del gemma\n",
        "del state\n",
        "gc.collect()"
      ]
    },
    {
      "cell_type": "code",
      "execution_count": null,
      "id": "48116207",
      "metadata": {
        "id": "3nW6_xE-Xq_x"
      },
      "outputs": [],
      "source": [
        "def get_ref_model(ckpt_path, shard=False):\n",
        "\n",
        "  mesh = jax.make_mesh(*MESH)\n",
        "  abs_gemma: nnx.Module = nnx.eval_shape(\n",
        "      lambda: gemma_lib.Transformer(\n",
        "          gemma_lib.TransformerConfig.gemma_2b(), rngs=nnx.Rngs(params=0)\n",
        "      )\n",
        "  )\n",
        "  abs_state = nnx.state(abs_gemma)\n",
        "  abs_state = jax.tree.map(\n",
        "      lambda a, s: jax.ShapeDtypeStruct(a.shape, jnp.float32, sharding=s),\n",
        "      abs_state,\n",
        "      nnx.get_named_sharding(abs_state, mesh),\n",
        "  )\n",
        "  checkpointer = ocp.StandardCheckpointer()\n",
        "  restored_params = checkpointer.restore(ckpt_path, target=abs_state)\n",
        "\n",
        "  graph_def, _ = nnx.split(abs_gemma)\n",
        "  gemma = nnx.merge(graph_def, restored_params)\n",
        "  return gemma, mesh\n",
        "\n",
        "\n",
        "def get_lora_model(base_model, mesh):\n",
        "  lora_provider = lora.LoraProvider(\n",
        "      module_path=(\n",
        "          \".*q_einsum|.*kv_einsum|.*gate_proj|.*down_proj|.*up_proj|\"\n",
        "          \".*attn_vec_einsum\"\n",
        "      ),\n",
        "      rank=RANK,\n",
        "      alpha=ALPHA,\n",
        "  )\n",
        "\n",
        "  model_input = base_model.get_model_input()\n",
        "  lora_model = lora.apply_lora_to_model(\n",
        "      base_model, lora_provider, **model_input\n",
        "  )\n",
        "\n",
        "  with mesh:\n",
        "    state = nnx.state(lora_model)\n",
        "    pspecs = nnx.get_partition_spec(state)\n",
        "    sharded_state = jax.lax.with_sharding_constraint(state, pspecs)\n",
        "    nnx.update(lora_model, sharded_state)\n",
        "\n",
        "  return lora_model"
      ]
    },
    {
      "cell_type": "code",
      "execution_count": null,
      "id": "0e001911",
      "metadata": {
        "id": "Gh9W7sJDXq_x"
      },
      "outputs": [],
      "source": [
        "# Reference model\n",
        "gemma, mesh = get_ref_model(\n",
        "    ckpt_path=os.path.join(INTERMEDIATE_CKPT_DIR, \"state\")\n",
        ")\n",
        "nnx.display(gemma)"
      ]
    },
    {
      "cell_type": "code",
      "execution_count": null,
      "id": "447a4dee",
      "metadata": {
        "id": "r_MInNmKXq_x"
      },
      "outputs": [],
      "source": [
        "# Policy model\n",
        "lora_gemma = get_lora_model(gemma, mesh=mesh)\n",
        "nnx.display(lora_gemma)"
      ]
    },
    {
      "cell_type": "markdown",
      "id": "94ade151",
      "metadata": {
        "id": "yBPy0HkfXq_x"
      },
      "source": [
        "## Define reward functions\n",
        "\n",
        "We define four reward functions:\n",
        "\n",
        "- reward if the format of the output exactly matches the instruction given in\n",
        "`TEMPLATE`;\n",
        "- reward if the format of the output approximately matches the instruction given\n",
        "in `TEMPLATE`;\n",
        "- reward if the answer is correct/partially correct;\n",
        "- Sometimes, the text between `\u003cSOLUTION\u003e`, `\u003c/SOLUTION\u003e` might not be one number.\n",
        "So, extract the number, and reward the model if the answer is correct."
      ]
    },
    {
      "cell_type": "markdown",
      "id": "482bdfbf",
      "metadata": {
        "id": "yRwDv-flXq_x"
      },
      "source": [
        "Let's define a RegEx for checking whether the format matches."
      ]
    },
    {
      "cell_type": "code",
      "execution_count": null,
      "id": "7b1af82f",
      "metadata": {
        "id": "pOlGs93bXq_x"
      },
      "outputs": [],
      "source": [
        "match_format = re.compile(\n",
        "    rf\"^[\\s]{{0,}}\"\n",
        "    rf\"{reasoning_start}.+?{reasoning_end}.*?\"\n",
        "    rf\"{solution_start}(.+?){solution_end}\"\n",
        "    rf\"[\\s]{{0,}}$\",\n",
        "    flags=re.MULTILINE | re.DOTALL,\n",
        ")\n",
        "\n",
        "match_format.search(\n",
        "    \"\u003cstart_working_out\u003eLet me think!\u003cend_working_out\u003e\u003cSOLUTION\u003e2\u003c/SOLUTION\u003e\",\n",
        ")"
      ]
    },
    {
      "cell_type": "markdown",
      "id": "575400c2",
      "metadata": {
        "id": "GGOCm12CXq_x"
      },
      "source": [
        "Give the model a reward of 3 points if the format matches exactly."
      ]
    },
    {
      "cell_type": "code",
      "execution_count": null,
      "id": "54c33a19",
      "metadata": {
        "id": "0FjcRgi3Xq_x"
      },
      "outputs": [],
      "source": [
        "def match_format_exactly(prompts, completions, **kargs):\n",
        "  scores = []\n",
        "  for completion in completions:\n",
        "    score = 0\n",
        "    response = completion\n",
        "    # Match if format is seen exactly!\n",
        "    if match_format.search(response) is not None:\n",
        "      score += 3.0\n",
        "    scores.append(score)\n",
        "  return scores"
      ]
    },
    {
      "cell_type": "markdown",
      "id": "507d22fa",
      "metadata": {
        "id": "2PuFPOOGXq_x"
      },
      "source": [
        "We also reward the model if the format of the output matches partially."
      ]
    },
    {
      "cell_type": "code",
      "execution_count": null,
      "id": "d45a5c16",
      "metadata": {
        "id": "CT1QxSL4Xq_x"
      },
      "outputs": [],
      "source": [
        "def match_format_approximately(prompts, completions, **kargs):\n",
        "  scores = []\n",
        "\n",
        "  for completion in completions:\n",
        "    score = 0\n",
        "    response = completion\n",
        "    # Count how many keywords are seen - we penalize if too many!\n",
        "    # If we see 1, then plus some points!\n",
        "    score += 0.5 if response.count(reasoning_start) == 1 else -0.5\n",
        "    score += 0.5 if response.count(reasoning_end) == 1 else -0.5\n",
        "    score += 0.5 if response.count(solution_start) == 1 else -0.5\n",
        "    score += 0.5 if response.count(solution_end) == 1 else -0.5\n",
        "    scores.append(score)\n",
        "  return scores"
      ]
    },
    {
      "cell_type": "markdown",
      "id": "a8c07fb8",
      "metadata": {
        "id": "K43YIlWdXq_x"
      },
      "source": [
        "Reward the model if the answer is correct. A reward is also given if the answer\n",
        "does not match exactly, i.e., based on how close the answer is to the correct\n",
        "value."
      ]
    },
    {
      "cell_type": "code",
      "execution_count": null,
      "id": "0275a402",
      "metadata": {
        "id": "OCWYPyM3Xq_x"
      },
      "outputs": [],
      "source": [
        "def check_answer(prompts, completions, answer, **kargs):\n",
        "  responses = completions\n",
        "\n",
        "  extracted_responses = [\n",
        "      guess.group(1) if (guess := match_format.search(r)) is not None else None\n",
        "      for r in responses\n",
        "  ]\n",
        "\n",
        "  scores = []\n",
        "  for guess, true_answer in zip(extracted_responses, answer):\n",
        "    score = 0\n",
        "    if guess is None:\n",
        "      scores.append(0)\n",
        "      continue\n",
        "    # Correct answer gets 3 points!\n",
        "    if guess == true_answer:\n",
        "      score += 3.0\n",
        "    # Match if spaces are seen\n",
        "    elif guess.strip() == true_answer.strip():\n",
        "      score += 1.5\n",
        "    else:\n",
        "      # We also reward it if the answer is close via ratios!\n",
        "      # Ie if the answer is within some range, reward it!\n",
        "      try:\n",
        "        ratio = float(guess) / float(true_answer)\n",
        "        if ratio \u003e= 0.9 and ratio \u003c= 1.1:\n",
        "          score += 0.5\n",
        "        elif ratio \u003e= 0.8 and ratio \u003c= 1.2:\n",
        "          score += 0.25\n",
        "        else:\n",
        "          score -= 1.0  # Penalize wrong answers\n",
        "      except:\n",
        "        score -= 0.5  # Penalize\n",
        "    scores.append(score)\n",
        "  return scores"
      ]
    },
    {
      "cell_type": "markdown",
      "id": "f1b7f472",
      "metadata": {
        "id": "UgvnVIvkXq_x"
      },
      "source": [
        "Sometimes, the text between `\u003cSOLUTION\u003e` and `\u003c/SOLUTION\u003e` might not be one\n",
        "number; it can be a sentence. So, we extract the number and compare the\n",
        "answer."
      ]
    },
    {
      "cell_type": "code",
      "execution_count": null,
      "id": "a8620873",
      "metadata": {
        "id": "n7XtVR1jXq_x"
      },
      "outputs": [],
      "source": [
        "match_numbers = re.compile(\n",
        "    rf\"{solution_start}.*?([\\d\\.]{{1,}})\", flags=re.MULTILINE | re.DOTALL\n",
        ")\n",
        "match_numbers.findall(\"\u003cSOLUTION\u003e  0.34  \u003c/SOLUTION\u003e\")"
      ]
    },
    {
      "cell_type": "code",
      "execution_count": null,
      "id": "826d60e3",
      "metadata": {
        "id": "C3tjoJXIXq_x"
      },
      "outputs": [],
      "source": [
        "def check_numbers(prompts, completions, answer, **kargs):\n",
        "  question = kargs[\"question\"]\n",
        "  # question = prompts[0][-1][\"content\"]\n",
        "  responses = completions\n",
        "\n",
        "  extracted_responses = [\n",
        "      guess.group(1) if (guess := match_numbers.search(r)) is not None else None\n",
        "      for r in responses\n",
        "  ]\n",
        "\n",
        "  scores = []\n",
        "  print(\"START ============================\")\n",
        "  print(f\"Question: {question[0]}\")\n",
        "  print(f\"Answer: {answer[0]}\")\n",
        "  print(f\"Response: {responses[0]}\")\n",
        "  print(f\"Extracted: {extracted_responses[0]}\")\n",
        "  print(\"END ==============================\")\n",
        "  for guess, true_answer in zip(extracted_responses, answer):\n",
        "    if guess is None:\n",
        "      scores.append(0)\n",
        "      continue\n",
        "    # Convert to numbers\n",
        "    try:\n",
        "      true_answer = float(true_answer.strip())\n",
        "      guess = float(guess.strip())\n",
        "      scores.append(1.5 if guess == true_answer else 0.0)\n",
        "    except:\n",
        "      scores.append(0)\n",
        "      continue\n",
        "  return scores"
      ]
    },
    {
      "cell_type": "markdown",
      "id": "27d8c61c",
      "metadata": {
        "id": "LNZp_6C1Xq_x"
      },
      "source": [
        "## Generate\n",
        "\n",
        "Before we train the model, let's see the model outputs so that we can compare\n",
        "them later."
      ]
    },
    {
      "cell_type": "code",
      "execution_count": null,
      "id": "56675ffe",
      "metadata": {
        "id": "SYgk_fmAXq_x"
      },
      "outputs": [],
      "source": [
        "gemma_tokenizer = data_lib.GemmaTokenizer()\n",
        "sampler = sampler_lib.Sampler(\n",
        "    transformer=lora_gemma, vocab=gemma_tokenizer.vocab\n",
        ")\n",
        "\n",
        "question = (\n",
        "    \"Trevor and two of his neighborhood friends go to the toy shop every year \"\n",
        "    \"to buy toys. Trevor always spends $20 more than his friend Reed on toys, \"\n",
        "    \"and Reed spends 2 times as much money as their friend Quinn on the toys. \"\n",
        "    \"If Trevor spends $80 every year to buy his toys, calculate how much money \"\n",
        "    \"in total the three spend in 4 years.\"\n",
        ")\n",
        "print(unbatched_generate(sampler, question))"
      ]
    },
    {
      "cell_type": "markdown",
      "id": "cc535a76",
      "metadata": {
        "id": "0jveObshXq_x"
      },
      "source": [
        "## Train\n",
        "\n",
        "Let's set up all the configs first - checkpointing, metric logging and training.\n",
        "We then train the model.\n",
        "\n",
        "Note: To get good results, it is advised to train the model for longer."
      ]
    },
    {
      "cell_type": "code",
      "execution_count": null,
      "id": "67db5449",
      "metadata": {
        "id": "bYpKigLPXq_x"
      },
      "outputs": [],
      "source": [
        "# Ckpt saving\n",
        "checkpointing_options = ocp.CheckpointManagerOptions(\n",
        "    save_interval_steps=SAVE_INTERVAL_STEPS, max_to_keep=MAX_TO_KEEP\n",
        ")\n",
        "\n",
        "# Metrics logger\n",
        "metrics_logging_options = metrics_logger.MetricsLoggerOptions(\n",
        "    log_dir=\"/tmp/tensorboard/grpo\", flush_every_n_steps=20\n",
        ")"
      ]
    },
    {
      "cell_type": "code",
      "execution_count": null,
      "id": "b9dde978",
      "metadata": {
        "id": "DqlMteSVXq_x"
      },
      "outputs": [],
      "source": [
        "# Training config\n",
        "training_config = GrpoTrainingConfig(\n",
        "    max_prompt_length=MAX_PROMPT_LENGTH,\n",
        "    total_generation_steps=TOTAL_GENERATION_STEPS,\n",
        "    num_generations=NUM_GENERATIONS,\n",
        "    num_iterations=NUM_ITERATIONS,\n",
        "    beta=BETA,\n",
        "    epsilon=EPSILON,\n",
        "    temperature=TEMPERATURE,\n",
        "    top_p=TOP_P,\n",
        "    eval_every_n_steps=EVAL_EVERY_N_STEPS,\n",
        "    max_steps=MAX_STEPS,\n",
        "    # max_grad_norm=0.1,\n",
        "    # metrics logging\n",
        "    metrics_logging_options=metrics_logging_options,\n",
        "    # checkpoint saving\n",
        "    checkpoint_root_directory=CKPT_DIR,\n",
        "    checkpointing_options=checkpointing_options,\n",
        ")"
      ]
    },
    {
      "cell_type": "code",
      "execution_count": null,
      "id": "53559a44",
      "metadata": {
        "id": "88nrVjS_Xq_x"
      },
      "outputs": [],
      "source": [
        "gemma_tokenizer = data_lib.GemmaTokenizer()\n",
        "sampler = sampler_lib.Sampler(\n",
        "    transformer=lora_gemma,\n",
        "    vocab=gemma_tokenizer.vocab,\n",
        ")\n",
        "\n",
        "grpo_trainer = GrpoTrainer(\n",
        "    model=lora_gemma,\n",
        "    ref_model=gemma,  # use the base model as reference\n",
        "    reward_fns=[\n",
        "        match_format_exactly,\n",
        "        match_format_approximately,\n",
        "        check_answer,\n",
        "        check_numbers,\n",
        "    ],\n",
        "    sampler=sampler,\n",
        "    optimizer=optax.adamw(\n",
        "        learning_rate=LEARNING_RATE,\n",
        "        b1=B1,\n",
        "        b2=B2,\n",
        "        weight_decay=WEIGHT_DECAY,\n",
        "    ),\n",
        "    training_config=training_config,\n",
        ")"
      ]
    },
    {
      "cell_type": "code",
      "execution_count": null,
      "id": "4004748f",
      "metadata": {
        "id": "ToGmyctmXq_x"
      },
      "outputs": [],
      "source": [
        "with mesh:\n",
        "  grpo_trainer.train(dataset)"
      ]
    },
    {
      "cell_type": "markdown",
      "id": "f32f6dbc",
      "metadata": {
        "id": "_iJIGIYwXq_x"
      },
      "source": [
        "## Generate!\n"
      ]
    },
    {
      "cell_type": "code",
      "execution_count": null,
      "id": "49a29a34",
      "metadata": {
        "id": "TneEGSm4Xq_x"
      },
      "outputs": [],
      "source": [
        "import jax\n",
        "import orbax.checkpoint as ocp\n",
        "\n",
        "trained_ckpt_path = os.path.join(CKPT_DIR, \"120\", \"model_params\")\n",
        "\n",
        "abs_params = jax.tree.map(\n",
        "    lambda x: jax.ShapeDtypeStruct(x.shape, x.dtype),\n",
        "    nnx.state(lora_gemma, nnx.LoRAParam),\n",
        ")\n",
        "checkpointer = ocp.StandardCheckpointer()\n",
        "trained_lora_params = checkpointer.restore(trained_ckpt_path, target=abs_params)\n",
        "\n",
        "nnx.update(\n",
        "    lora_gemma,\n",
        "    jax.tree.map(\n",
        "        lambda a, b: b,\n",
        "        nnx.state(lora_gemma, nnx.LoRAParam),\n",
        "        trained_lora_params,\n",
        "    ),\n",
        ")"
      ]
    },
    {
      "cell_type": "code",
      "execution_count": null,
      "id": "c931fb2e",
      "metadata": {
        "id": "WJU2_LaCXq_x"
      },
      "outputs": [],
      "source": [
        "gemma_tokenizer = data_lib.GemmaTokenizer()\n",
        "sampler = sampler_lib.Sampler(\n",
        "    transformer=lora_gemma, vocab=gemma_tokenizer.vocab\n",
        ")\n",
        "\n",
        "question = (\n",
        "    \"Trevor and two of his neighborhood friends go to the toy shop every year \"\n",
        "    \"to buy toys. Trevor always spends $20 more than his friend Reed on toys, \"\n",
        "    \"and Reed spends 2 times as much money as their friend Quinn on the toys. \"\n",
        "    \"If Trevor spends $80 every year to buy his toys, calculate how much money \"\n",
        "    \"in total the three spend in 4 years.\"\n",
        ")\n",
        "print(unbatched_generate(sampler, question))"
      ]
    },
    {
      "cell_type": "code",
      "execution_count": null,
      "id": "0bc546bf",
      "metadata": {
        "id": "KGiYaXg0Xq_x"
      },
      "outputs": [],
      "source": []
    }
  ],
  "metadata": {
    "language_info": {
      "name": "python"
    }
  },
  "nbformat": 4,
  "nbformat_minor": 5
}
