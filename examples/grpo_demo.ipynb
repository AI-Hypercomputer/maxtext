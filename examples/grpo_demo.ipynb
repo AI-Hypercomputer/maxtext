{
  "cells": [
    {
      "cell_type": "markdown",
      "id": "abdhOBYHqYz6",
      "metadata": {},
      "source": [
        "<a href=\"https://colab.research.google.com/github/google/tunix/blob/main/examples/grpo_demo.ipynb\" ><img src=\"https://colab.research.google.com/assets/colab-badge.svg\" alt=\"Open In Colab\"/></a>\n",
        "\n",
        "This tutorial demonstrates training the Gemma 2 2B-IT model on the GSM8K math\n",
        "reasoning benchmark using Group Relative Policy Optimization (GRPO). GRPO can\n",
        "enhance your model's problem-solving skills on mathematical word problems,\n",
        "coding problems, etc.\n",
        "\n",
        "GRPO is an RL algorithm designed to enhance the reasoning abilities of LLMs. It\n",
        "is a variant of Proximal Policy Optimization (PPO) that reduces memory usage by\n",
        "eliminating the need for a separate value function model. GRPO works by\n",
        "generating multiple responses for a given prompt, evaluating these responses\n",
        "using a reward model, and then calculating a relative advantage based on the\n",
        "group's performance to update the policy.\n",
        "\n",
        "In this tutorial we use Colab's `v2-8` TPU. Let's get started!"
      ]
    },
    {
      "cell_type": "markdown",
      "id": "afofSj37qYz6",
      "metadata": {},
      "source": [
        "## Install necessary libraries"
      ]
    },
    {
      "cell_type": "code",
      "execution_count": null,
      "id": "Z03GnyApTn1j",
      "metadata": {},
      "outputs": [
        {
          "name": "stdout",
          "output_type": "stream",
          "text": [
            "\u001b[31mERROR: pip's dependency resolver does not currently take into account all the packages that are installed. This behaviour is the source of the following dependency conflicts.\n",
            "datasets 4.0.0 requires fsspec[http]<=2025.3.0,>=2023.1.0, but you have fsspec 2025.7.0 which is incompatible.\u001b[0m\u001b[31m\n",
            "\u001b[0m\u001b[31mERROR: Operation cancelled by user\u001b[0m\u001b[31m\n",
            "\u001b[0m^C\n"
          ]
        }
      ],
      "source": [
        "!pip install -q kagglehub\n",
        "\n",
        "!pip install -q tensorflow\n",
        "!pip install -q tensorboardX\n",
        "!pip install -q grain\n",
        "!pip install -q git+https://github.com/google/tunix\n",
        "!pip install -q git+https://github.com/google/qwix\n",
        "\n",
        "!pip uninstall -q -y flax\n",
        "!pip install -q git+https://github.com/google/flax.git\n",
        "\n",
        "!pip install -q tensorflow-datasets"
      ]
    },
    {
      "cell_type": "code",
      "execution_count": null,
      "id": "f95eb96c",
      "metadata": {},
      "outputs": [
        {
          "name": "stdout",
          "output_type": "stream",
          "text": [
            "Requirement already satisfied: ipywidgets in /home/mazumdera_google_com/venv-py311/lib/python3.11/site-packages (8.1.7)\n",
            "Requirement already satisfied: comm>=0.1.3 in /home/mazumdera_google_com/venv-py311/lib/python3.11/site-packages (from ipywidgets) (0.2.2)\n",
            "Requirement already satisfied: ipython>=6.1.0 in /home/mazumdera_google_com/venv-py311/lib/python3.11/site-packages (from ipywidgets) (9.4.0)\n",
            "Requirement already satisfied: traitlets>=4.3.1 in /home/mazumdera_google_com/venv-py311/lib/python3.11/site-packages (from ipywidgets) (5.14.3)\n",
            "Requirement already satisfied: widgetsnbextension~=4.0.14 in /home/mazumdera_google_com/venv-py311/lib/python3.11/site-packages (from ipywidgets) (4.0.14)\n",
            "Requirement already satisfied: jupyterlab_widgets~=3.0.15 in /home/mazumdera_google_com/venv-py311/lib/python3.11/site-packages (from ipywidgets) (3.0.15)\n",
            "Requirement already satisfied: decorator in /home/mazumdera_google_com/venv-py311/lib/python3.11/site-packages (from ipython>=6.1.0->ipywidgets) (5.2.1)\n",
            "Requirement already satisfied: ipython-pygments-lexers in /home/mazumdera_google_com/venv-py311/lib/python3.11/site-packages (from ipython>=6.1.0->ipywidgets) (1.1.1)\n",
            "Requirement already satisfied: jedi>=0.16 in /home/mazumdera_google_com/venv-py311/lib/python3.11/site-packages (from ipython>=6.1.0->ipywidgets) (0.19.2)\n",
            "Requirement already satisfied: matplotlib-inline in /home/mazumdera_google_com/venv-py311/lib/python3.11/site-packages (from ipython>=6.1.0->ipywidgets) (0.1.7)\n",
            "Requirement already satisfied: pexpect>4.3 in /home/mazumdera_google_com/venv-py311/lib/python3.11/site-packages (from ipython>=6.1.0->ipywidgets) (4.9.0)\n",
            "Requirement already satisfied: prompt_toolkit<3.1.0,>=3.0.41 in /home/mazumdera_google_com/venv-py311/lib/python3.11/site-packages (from ipython>=6.1.0->ipywidgets) (3.0.51)\n",
            "Requirement already satisfied: pygments>=2.4.0 in /home/mazumdera_google_com/venv-py311/lib/python3.11/site-packages (from ipython>=6.1.0->ipywidgets) (2.19.2)\n",
            "Requirement already satisfied: stack_data in /home/mazumdera_google_com/venv-py311/lib/python3.11/site-packages (from ipython>=6.1.0->ipywidgets) (0.6.3)\n",
            "Requirement already satisfied: typing_extensions>=4.6 in /home/mazumdera_google_com/venv-py311/lib/python3.11/site-packages (from ipython>=6.1.0->ipywidgets) (4.14.1)\n",
            "Requirement already satisfied: wcwidth in /home/mazumdera_google_com/venv-py311/lib/python3.11/site-packages (from prompt_toolkit<3.1.0,>=3.0.41->ipython>=6.1.0->ipywidgets) (0.2.13)\n",
            "Requirement already satisfied: parso<0.9.0,>=0.8.4 in /home/mazumdera_google_com/venv-py311/lib/python3.11/site-packages (from jedi>=0.16->ipython>=6.1.0->ipywidgets) (0.8.4)\n",
            "Requirement already satisfied: ptyprocess>=0.5 in /home/mazumdera_google_com/venv-py311/lib/python3.11/site-packages (from pexpect>4.3->ipython>=6.1.0->ipywidgets) (0.7.0)\n",
            "Requirement already satisfied: executing>=1.2.0 in /home/mazumdera_google_com/venv-py311/lib/python3.11/site-packages (from stack_data->ipython>=6.1.0->ipywidgets) (2.2.0)\n",
            "Requirement already satisfied: asttokens>=2.1.0 in /home/mazumdera_google_com/venv-py311/lib/python3.11/site-packages (from stack_data->ipython>=6.1.0->ipywidgets) (3.0.0)\n",
            "Requirement already satisfied: pure-eval in /home/mazumdera_google_com/venv-py311/lib/python3.11/site-packages (from stack_data->ipython>=6.1.0->ipywidgets) (0.2.3)\n"
          ]
        }
      ],
      "source": [
        "!pip install ipywidgets"
      ]
    },
    {
      "cell_type": "markdown",
      "id": "LnF9ZACiTn1k",
      "metadata": {},
      "source": [
        "## Imports"
      ]
    },
    {
      "cell_type": "code",
      "execution_count": null,
      "id": "McTNo_r8Tn1k",
      "metadata": {},
      "outputs": [
        {
          "ename": "ModuleNotFoundError",
          "evalue": "No module named 'tunix.rl.cluster'",
          "output_type": "error",
          "traceback": [
            "\u001b[31m---------------------------------------------------------------------------\u001b[39m",
            "\u001b[31mModuleNotFoundError\u001b[39m                       Traceback (most recent call last)",
            "\u001b[36mCell\u001b[39m\u001b[36m \u001b[39m\u001b[32mIn[16]\u001b[39m\u001b[32m, line 23\u001b[39m\n\u001b[32m     21\u001b[39m \u001b[38;5;28;01mfrom\u001b[39;00m\u001b[38;5;250m \u001b[39m\u001b[34;01mtunix\u001b[39;00m\u001b[34;01m.\u001b[39;00m\u001b[34;01mmodels\u001b[39;00m\u001b[34;01m.\u001b[39;00m\u001b[34;01mgemma\u001b[39;00m\u001b[38;5;250m \u001b[39m\u001b[38;5;28;01mimport\u001b[39;00m gemma \u001b[38;5;28;01mas\u001b[39;00m gemma_lib\n\u001b[32m     22\u001b[39m \u001b[38;5;28;01mfrom\u001b[39;00m\u001b[38;5;250m \u001b[39m\u001b[34;01mtunix\u001b[39;00m\u001b[34;01m.\u001b[39;00m\u001b[34;01mmodels\u001b[39;00m\u001b[34;01m.\u001b[39;00m\u001b[34;01mgemma\u001b[39;00m\u001b[38;5;250m \u001b[39m\u001b[38;5;28;01mimport\u001b[39;00m params \u001b[38;5;28;01mas\u001b[39;00m params_lib\n\u001b[32m---> \u001b[39m\u001b[32m23\u001b[39m \u001b[38;5;28;01mfrom\u001b[39;00m\u001b[38;5;250m \u001b[39m\u001b[34;01mtunix\u001b[39;00m\u001b[34;01m.\u001b[39;00m\u001b[34;01mrl\u001b[39;00m\u001b[34;01m.\u001b[39;00m\u001b[34;01mcluster\u001b[39;00m\u001b[38;5;250m \u001b[39m\u001b[38;5;28;01mimport\u001b[39;00m rl_cluster \u001b[38;5;28;01mas\u001b[39;00m rl_cluster_lib\n\u001b[32m     24\u001b[39m \u001b[38;5;28;01mfrom\u001b[39;00m\u001b[38;5;250m \u001b[39m\u001b[34;01mtunix\u001b[39;00m\u001b[34;01m.\u001b[39;00m\u001b[34;01mrl\u001b[39;00m\u001b[34;01m.\u001b[39;00m\u001b[34;01mrollout\u001b[39;00m\u001b[38;5;250m \u001b[39m\u001b[38;5;28;01mimport\u001b[39;00m base_rollout\n\u001b[32m     25\u001b[39m \u001b[38;5;28;01mfrom\u001b[39;00m\u001b[38;5;250m \u001b[39m\u001b[34;01mtunix\u001b[39;00m\u001b[34;01m.\u001b[39;00m\u001b[34;01mrl\u001b[39;00m\u001b[34;01m.\u001b[39;00m\u001b[34;01mgrpo\u001b[39;00m\u001b[34;01m.\u001b[39;00m\u001b[34;01mgrpo_learner\u001b[39;00m\u001b[38;5;250m \u001b[39m\u001b[38;5;28;01mimport\u001b[39;00m GrpoConfig, GrpoLearner\n",
            "\u001b[31mModuleNotFoundError\u001b[39m: No module named 'tunix.rl.cluster'"
          ]
        }
      ],
      "source": [
        "import functools\n",
        "import gc\n",
        "import os\n",
        "from pprint import pprint\n",
        "import re\n",
        "import time\n",
        "\n",
        "from flax import nnx\n",
        "import grain\n",
        "import humanize\n",
        "import jax\n",
        "import jax.numpy as jnp\n",
        "import kagglehub\n",
        "import optax\n",
        "from orbax import checkpoint as ocp\n",
        "from qwix import lora\n",
        "import tensorflow_datasets as tfds\n",
        "from tqdm.auto import tqdm\n",
        "from tunix.generate import sampler as sampler_lib\n",
        "from tunix.models.gemma import data as data_lib\n",
        "from tunix.models.gemma import gemma as gemma_lib\n",
        "from tunix.models.gemma import params as params_lib\n",
        "from tunix.rl.cluster import rl_cluster as rl_cluster_lib\n",
        "from tunix.rl.rollout import base_rollout\n",
        "from tunix.rl.grpo.grpo_learner import GrpoConfig, GrpoLearner\n",
        "from tunix.sft import metrics_logger"
      ]
    },
    {
      "cell_type": "markdown",
      "id": "Eu_NI9nHTn1k",
      "metadata": {},
      "source": [
        "## Hyperparameters\n",
        "\n",
        "Let's define the configuration we are going to use. Note that this is by no\n",
        "means a \"perfect\" set of hyperparameters. To get good results, you might have\n",
        "to train the model for longer."
      ]
    },
    {
      "cell_type": "code",
      "execution_count": null,
      "id": "ZPPKme47Tn1k",
      "metadata": {},
      "outputs": [],
      "source": [
        "# ====== Data ======\n",
        "TRAIN_DATA_DIR = \"./data/train\"\n",
        "TEST_DATA_DIR = \"./data/test\"\n",
        "TRAIN_FRACTION = 1.0\n",
        "\n",
        "# ====== LoRA ======\n",
        "RANK = 64\n",
        "ALPHA = 64.0\n",
        "\n",
        "# ====== Sharding ======\n",
        "MESH = [(1, 4), (\"fsdp\", \"tp\")]\n",
        "\n",
        "# ====== GRPO ======\n",
        "# === Generation during GRPO training ===\n",
        "MAX_PROMPT_LENGTH = 256\n",
        "TOTAL_GENERATION_STEPS = 768\n",
        "# Important to keep a high-ish temperature for varied, diverse responses during\n",
        "# training.\n",
        "TEMPERATURE = 0.9\n",
        "TOP_P = 1.0\n",
        "TOP_K = 50\n",
        "# The number of times the policy generates multiple responses for a given prompt\n",
        "# within a single training step. This corresponds to `G` in Algorithm 1 in the\n",
        "# paper. The \"group\" in GRPO comes from here.\n",
        "NUM_GENERATIONS = 2\n",
        "\n",
        "# === other GRPO configs ===\n",
        "# The number of iterations per batch (𝜇 in GRPO algo 1).\n",
        "NUM_ITERATIONS = 1\n",
        "# The coefficient for the KL divergence penalty (𝛽) in the GRPO loss function.\n",
        "# Important to keep a high enough value for this, otherwise, the KL divergence\n",
        "# can increase unchecked.\n",
        "BETA = 0.08\n",
        "# Epsilon value for clipping (𝜀 in GRPO loss in paper). Similar to PPO, for\n",
        "# stable updates.\n",
        "EPSILON = 0.2\n",
        "\n",
        "# ====== Training ======\n",
        "BATCH_SIZE = 1\n",
        "# Increase `NUM_BATCHES` and `MAX_STEPS` for better results.\n",
        "NUM_BATCHES = 3738\n",
        "# Keep `NUM_TEST_BATCHES` low so that evaluation runs quickly. It can be\n",
        "# increased to a max. of 330 (if batch size is 4).\n",
        "NUM_TEST_BATCHES = 5 #100 #Anisha: making it small for quick eval\n",
        "\n",
        "EVAL_EVERY_N_STEPS = 10  # this doesn't matter if `TRAIN_FRACTION = 1.0`.\n",
        "NUM_EPOCHS = 1  # can potentially train for more epochs\n",
        "\n",
        "# Number of training steps.\n",
        "MAX_STEPS = int(NUM_BATCHES * NUM_ITERATIONS * TRAIN_FRACTION * NUM_EPOCHS)\n",
        "\n",
        "# === AdamW, warmup, cosine scheduler ===\n",
        "LEARNING_RATE = 3e-6\n",
        "B1 = 0.9\n",
        "B2 = 0.99\n",
        "WEIGHT_DECAY = 0.1\n",
        "# == Cosine decay with warmup scheduler ==\n",
        "# Linearly increase learning rate from 0. to 5e-6 in the first 10% training\n",
        "# steps, and then gradually decrease the learning rate to 0 using cosine\n",
        "# scheduler.\n",
        "WARMUP_STEPS = 0.1 * MAX_STEPS\n",
        "# == Grad clipping ==\n",
        "# Grad clipping to prevent large gradients. Found this\n",
        "# important to keep KL divergence in check.\n",
        "MAX_GRAD_NORM = 0.1\n",
        "\n",
        "# Checkpoint saving\n",
        "INTERMEDIATE_CKPT_DIR = \"/content/intermediate_ckpt/\"\n",
        "CKPT_DIR = \"/content/ckpts/\"\n",
        "SAVE_INTERVAL_STEPS = 500\n",
        "MAX_TO_KEEP = 4\n",
        "\n",
        "# ====== Inference ======\n",
        "GENERATION_CONFIGS = {\n",
        "    # greedy search\n",
        "    \"greedy\": {\"temperature\": 1e-4, \"top_k\": 1, \"top_p\": 1.0},\n",
        "    # some randomness\n",
        "    \"standard\": {\"temperature\": 0.7, \"top_k\": 50, \"top_p\": 0.95},\n",
        "    # liberal\n",
        "    \"liberal\": {\"temperature\": 0.85, \"top_k\": 2000, \"top_p\": 1.0},\n",
        "}"
      ]
    },
    {
      "cell_type": "markdown",
      "id": "ngjtE-63Tn1k",
      "metadata": {},
      "source": [
        "## Utility functions"
      ]
    },
    {
      "cell_type": "code",
      "execution_count": null,
      "id": "wjMFOr7aTn1k",
      "metadata": {},
      "outputs": [],
      "source": [
        "def show_hbm_usage():\n",
        "  \"\"\"Displays memory usage per device.\"\"\"\n",
        "  fmt_size = functools.partial(humanize.naturalsize, binary=True)\n",
        "\n",
        "  for d in jax.local_devices():\n",
        "    stats = d.memory_stats()\n",
        "    used = stats[\"bytes_in_use\"]\n",
        "    limit = stats[\"bytes_limit\"]\n",
        "    print(f\"Using {fmt_size(used)} / {fmt_size(limit)} ({used/limit:%}) on {d}\")"
      ]
    },
    {
      "cell_type": "markdown",
      "id": "6BtpYMlaTn1k",
      "metadata": {},
      "source": [
        "## Data preprocessing\n",
        "\n",
        "First, let's define some special tokens. We instruct the model to first reason\n",
        "between the `<reasoning>` and `</reasoning>` tokens. After\n",
        "reasoning, we expect it to provide the answer between the `<answer>` and\n",
        "`</answer>` tokens."
      ]
    },
    {
      "cell_type": "code",
      "execution_count": null,
      "id": "h6RGv1kSTn1k",
      "metadata": {},
      "outputs": [],
      "source": [
        "reasoning_start = \"<reasoning>\"\n",
        "reasoning_end = \"</reasoning>\"\n",
        "solution_start = \"<answer>\"\n",
        "solution_end = \"</answer>\"\n",
        "\n",
        "\n",
        "SYSTEM_PROMPT = f\"\"\"You are given a problem. Think about the problem and \\\n",
        "provide your reasoning. Place it between {reasoning_start} and \\\n",
        "{reasoning_end}. Then, provide the final answer (i.e., just one numerical \\\n",
        "value) between {solution_start} and {solution_end}.\"\"\"\n",
        "\n",
        "TEMPLATE = \"\"\"<start_of_turn>user\n",
        "{system_prompt}\n",
        "\n",
        "{question}<end_of_turn>\n",
        "<start_of_turn>model\"\"\""
      ]
    },
    {
      "cell_type": "markdown",
      "id": "WASP9N5JTn1k",
      "metadata": {},
      "source": [
        "We use OpenAI's GSM8K dataset. GSM8K comprises grade school math word problems."
      ]
    },
    {
      "cell_type": "code",
      "execution_count": null,
      "id": "gTGjcSMNTn1k",
      "metadata": {},
      "outputs": [],
      "source": [
        "def extract_hash_answer(text: str) -> str | None:\n",
        "  if \"####\" not in text:\n",
        "    return None\n",
        "  return text.split(\"####\")[1].strip()\n",
        "\n",
        "\n",
        "def get_dataset(data_dir, split=\"train\") -> grain.MapDataset:\n",
        "  # Download data\n",
        "  if not os.path.exists(data_dir):\n",
        "    os.makedirs(data_dir)\n",
        "\n",
        "  data = tfds.data_source(\n",
        "      \"gsm8k\",\n",
        "      split=split,\n",
        "      data_dir=data_dir,\n",
        "      builder_kwargs={\"file_format\": tfds.core.FileFormat.ARRAY_RECORD},\n",
        "      download=True,\n",
        "  )\n",
        "\n",
        "  dataset = (\n",
        "      grain.MapDataset.source(data)\n",
        "      .shuffle(seed=42)\n",
        "      .map(\n",
        "          lambda x: {\n",
        "              # passed to model forward pass\n",
        "              \"prompts\": TEMPLATE.format(\n",
        "                  system_prompt=SYSTEM_PROMPT,\n",
        "                  question=x[\"question\"].decode(\"utf-8\"),\n",
        "              ),\n",
        "              # passed to reward functions\n",
        "              \"question\": x[\"question\"].decode(\"utf-8\"),\n",
        "              # passed to reward functions\n",
        "              \"answer\": extract_hash_answer(x[\"answer\"].decode(\"utf-8\")),\n",
        "          }\n",
        "      )\n",
        "  )\n",
        "  return dataset"
      ]
    },
    {
      "cell_type": "code",
      "execution_count": null,
      "id": "KXhOL6GyTn1k",
      "metadata": {},
      "outputs": [
        {
          "name": "stderr",
          "output_type": "stream",
          "text": [
            "WARNING:absl:Variant folder data/train/gsm8k/1.0.0 has no dataset_info.json\n"
          ]
        },
        {
          "name": "stdout",
          "output_type": "stream",
          "text": [
            "\u001b[1mDownloading and preparing dataset Unknown size (download: Unknown size, generated: Unknown size, total: Unknown size) to data/train/gsm8k/1.0.0...\u001b[0m\n"
          ]
        },
        {
          "data": {
            "application/vnd.jupyter.widget-view+json": {
              "model_id": "31308d38615c410bb9f5836aa1e2dced",
              "version_major": 2,
              "version_minor": 0
            },
            "text/plain": [
              "Dl Completed...: 0 url [00:00, ? url/s]"
            ]
          },
          "metadata": {},
          "output_type": "display_data"
        },
        {
          "data": {
            "application/vnd.jupyter.widget-view+json": {
              "model_id": "1346efd69d5445189540766ba5bcc036",
              "version_major": 2,
              "version_minor": 0
            },
            "text/plain": [
              "Dl Size...: 0 MiB [00:00, ? MiB/s]"
            ]
          },
          "metadata": {},
          "output_type": "display_data"
        },
        {
          "data": {
            "application/vnd.jupyter.widget-view+json": {
              "model_id": "35d1d6f3ab4642a3a8bb01ff61202691",
              "version_major": 2,
              "version_minor": 0
            },
            "text/plain": [
              "Extraction completed...: 0 file [00:00, ? file/s]"
            ]
          },
          "metadata": {},
          "output_type": "display_data"
        },
        {
          "data": {
            "application/vnd.jupyter.widget-view+json": {
              "model_id": "879dfe993cbe4b59a153ee856686703c",
              "version_major": 2,
              "version_minor": 0
            },
            "text/plain": [
              "Generating splits...:   0%|          | 0/4 [00:00<?, ? splits/s]"
            ]
          },
          "metadata": {},
          "output_type": "display_data"
        },
        {
          "data": {
            "application/vnd.jupyter.widget-view+json": {
              "model_id": "ce13aadc5de446ee811e0c00dab181f8",
              "version_major": 2,
              "version_minor": 0
            },
            "text/plain": [
              "Generating train examples...: 0 examples [00:00, ? examples/s]"
            ]
          },
          "metadata": {},
          "output_type": "display_data"
        },
        {
          "data": {
            "application/vnd.jupyter.widget-view+json": {
              "model_id": "f90bab6ea50f4b19adef655a9b2545e8",
              "version_major": 2,
              "version_minor": 0
            },
            "text/plain": [
              "Shuffling data/train/gsm8k/incomplete.A1DQCE_1.0.0/gsm8k-train.array_record*...:   0%|          | 0/7473 [00:0…"
            ]
          },
          "metadata": {},
          "output_type": "display_data"
        },
        {
          "data": {
            "application/vnd.jupyter.widget-view+json": {
              "model_id": "990a0637861c4decbb885f472162dea3",
              "version_major": 2,
              "version_minor": 0
            },
            "text/plain": [
              "Generating test examples...: 0 examples [00:00, ? examples/s]"
            ]
          },
          "metadata": {},
          "output_type": "display_data"
        },
        {
          "data": {
            "application/vnd.jupyter.widget-view+json": {
              "model_id": "7f716cbf7f7d4994901acf311e735e2d",
              "version_major": 2,
              "version_minor": 0
            },
            "text/plain": [
              "Shuffling data/train/gsm8k/incomplete.A1DQCE_1.0.0/gsm8k-test.array_record*...:   0%|          | 0/1319 [00:00…"
            ]
          },
          "metadata": {},
          "output_type": "display_data"
        },
        {
          "data": {
            "application/vnd.jupyter.widget-view+json": {
              "model_id": "17b431568b4842718b9bd43178ad6772",
              "version_major": 2,
              "version_minor": 0
            },
            "text/plain": [
              "Generating train_socratic examples...: 0 examples [00:00, ? examples/s]"
            ]
          },
          "metadata": {},
          "output_type": "display_data"
        },
        {
          "data": {
            "application/vnd.jupyter.widget-view+json": {
              "model_id": "8ad1d1d72dd04078a83fb398896c2746",
              "version_major": 2,
              "version_minor": 0
            },
            "text/plain": [
              "Shuffling data/train/gsm8k/incomplete.A1DQCE_1.0.0/gsm8k-train_socratic.array_record*...:   0%|          | 0/7…"
            ]
          },
          "metadata": {},
          "output_type": "display_data"
        },
        {
          "data": {
            "application/vnd.jupyter.widget-view+json": {
              "model_id": "642b88c7ee054310b5934a07ffbfd9b1",
              "version_major": 2,
              "version_minor": 0
            },
            "text/plain": [
              "Generating test_socratic examples...: 0 examples [00:00, ? examples/s]"
            ]
          },
          "metadata": {},
          "output_type": "display_data"
        },
        {
          "data": {
            "application/vnd.jupyter.widget-view+json": {
              "model_id": "b2559748eb64463cb8f9309063ebf8b0",
              "version_major": 2,
              "version_minor": 0
            },
            "text/plain": [
              "Shuffling data/train/gsm8k/incomplete.A1DQCE_1.0.0/gsm8k-test_socratic.array_record*...:   0%|          | 0/13…"
            ]
          },
          "metadata": {},
          "output_type": "display_data"
        },
        {
          "name": "stderr",
          "output_type": "stream",
          "text": [
            "WARNING:absl:Variant folder data/test/gsm8k/1.0.0 has no dataset_info.json\n"
          ]
        },
        {
          "name": "stdout",
          "output_type": "stream",
          "text": [
            "\u001b[1mDataset gsm8k downloaded and prepared to data/train/gsm8k/1.0.0. Subsequent calls will reuse this data.\u001b[0m\n",
            "\u001b[1mDownloading and preparing dataset Unknown size (download: Unknown size, generated: Unknown size, total: Unknown size) to data/test/gsm8k/1.0.0...\u001b[0m\n"
          ]
        },
        {
          "data": {
            "application/vnd.jupyter.widget-view+json": {
              "model_id": "dd0f5ccf10f24d9dafff911ab1a90827",
              "version_major": 2,
              "version_minor": 0
            },
            "text/plain": [
              "Dl Completed...: 0 url [00:00, ? url/s]"
            ]
          },
          "metadata": {},
          "output_type": "display_data"
        },
        {
          "data": {
            "application/vnd.jupyter.widget-view+json": {
              "model_id": "fa5540f75f224feaa55edfadd8faab4d",
              "version_major": 2,
              "version_minor": 0
            },
            "text/plain": [
              "Dl Size...: 0 MiB [00:00, ? MiB/s]"
            ]
          },
          "metadata": {},
          "output_type": "display_data"
        },
        {
          "data": {
            "application/vnd.jupyter.widget-view+json": {
              "model_id": "84d686937a30437bacd9a5fda9eda3fd",
              "version_major": 2,
              "version_minor": 0
            },
            "text/plain": [
              "Extraction completed...: 0 file [00:00, ? file/s]"
            ]
          },
          "metadata": {},
          "output_type": "display_data"
        },
        {
          "data": {
            "application/vnd.jupyter.widget-view+json": {
              "model_id": "e30228fc50b943a3a5c014c90c86e703",
              "version_major": 2,
              "version_minor": 0
            },
            "text/plain": [
              "Generating splits...:   0%|          | 0/4 [00:00<?, ? splits/s]"
            ]
          },
          "metadata": {},
          "output_type": "display_data"
        },
        {
          "data": {
            "application/vnd.jupyter.widget-view+json": {
              "model_id": "04b6747e20294ec3afdfa8982a175d61",
              "version_major": 2,
              "version_minor": 0
            },
            "text/plain": [
              "Generating train examples...: 0 examples [00:00, ? examples/s]"
            ]
          },
          "metadata": {},
          "output_type": "display_data"
        },
        {
          "data": {
            "application/vnd.jupyter.widget-view+json": {
              "model_id": "406cb8f425dc4c898ca7a6de8868380c",
              "version_major": 2,
              "version_minor": 0
            },
            "text/plain": [
              "Shuffling data/test/gsm8k/incomplete.FVI8KP_1.0.0/gsm8k-train.array_record*...:   0%|          | 0/7473 [00:00…"
            ]
          },
          "metadata": {},
          "output_type": "display_data"
        },
        {
          "data": {
            "application/vnd.jupyter.widget-view+json": {
              "model_id": "62dfa565aab345d9bd1f800e4ec764be",
              "version_major": 2,
              "version_minor": 0
            },
            "text/plain": [
              "Generating test examples...: 0 examples [00:00, ? examples/s]"
            ]
          },
          "metadata": {},
          "output_type": "display_data"
        },
        {
          "data": {
            "application/vnd.jupyter.widget-view+json": {
              "model_id": "a94f6b9ca33a41eb9145216d3a9deadc",
              "version_major": 2,
              "version_minor": 0
            },
            "text/plain": [
              "Shuffling data/test/gsm8k/incomplete.FVI8KP_1.0.0/gsm8k-test.array_record*...:   0%|          | 0/1319 [00:00<…"
            ]
          },
          "metadata": {},
          "output_type": "display_data"
        },
        {
          "data": {
            "application/vnd.jupyter.widget-view+json": {
              "model_id": "a0ee06e07ac94be591a61cabb7366647",
              "version_major": 2,
              "version_minor": 0
            },
            "text/plain": [
              "Generating train_socratic examples...: 0 examples [00:00, ? examples/s]"
            ]
          },
          "metadata": {},
          "output_type": "display_data"
        },
        {
          "data": {
            "application/vnd.jupyter.widget-view+json": {
              "model_id": "fbf7635b6f2f44779cc1d6862e1ed00d",
              "version_major": 2,
              "version_minor": 0
            },
            "text/plain": [
              "Shuffling data/test/gsm8k/incomplete.FVI8KP_1.0.0/gsm8k-train_socratic.array_record*...:   0%|          | 0/74…"
            ]
          },
          "metadata": {},
          "output_type": "display_data"
        },
        {
          "data": {
            "application/vnd.jupyter.widget-view+json": {
              "model_id": "1b6ff7d36bee49f587709a2d49bfc3f5",
              "version_major": 2,
              "version_minor": 0
            },
            "text/plain": [
              "Generating test_socratic examples...: 0 examples [00:00, ? examples/s]"
            ]
          },
          "metadata": {},
          "output_type": "display_data"
        },
        {
          "data": {
            "application/vnd.jupyter.widget-view+json": {
              "model_id": "a3f2013286d2493c9ceacf38584c0fea",
              "version_major": 2,
              "version_minor": 0
            },
            "text/plain": [
              "Shuffling data/test/gsm8k/incomplete.FVI8KP_1.0.0/gsm8k-test_socratic.array_record*...:   0%|          | 0/131…"
            ]
          },
          "metadata": {},
          "output_type": "display_data"
        },
        {
          "name": "stdout",
          "output_type": "stream",
          "text": [
            "\u001b[1mDataset gsm8k downloaded and prepared to data/test/gsm8k/1.0.0. Subsequent calls will reuse this data.\u001b[0m\n"
          ]
        },
        {
          "data": {
            "text/plain": [
              "(3738, 0, 100)"
            ]
          },
          "execution_count": 9,
          "metadata": {},
          "output_type": "execute_result"
        }
      ],
      "source": [
        "dataset = get_dataset(TRAIN_DATA_DIR, \"train\").batch(BATCH_SIZE)[:NUM_BATCHES]\n",
        "\n",
        "if TRAIN_FRACTION == 1.0:\n",
        "  train_dataset = dataset.repeat(NUM_EPOCHS)\n",
        "  val_dataset = None\n",
        "else:\n",
        "  train_dataset = dataset[: int(len(dataset) * TRAIN_FRACTION)]\n",
        "  train_dataset = train_dataset.repeat(NUM_EPOCHS)\n",
        "\n",
        "  val_dataset = dataset[int(len(dataset) * TRAIN_FRACTION) :].repeat(NUM_EPOCHS)\n",
        "\n",
        "test_dataset = get_dataset(TEST_DATA_DIR, \"test\").batch(BATCH_SIZE)[\n",
        "    :NUM_TEST_BATCHES\n",
        "]\n",
        "\n",
        "len(train_dataset), len(val_dataset) if val_dataset is not None else 0, len(\n",
        "    test_dataset\n",
        ")"
      ]
    },
    {
      "cell_type": "markdown",
      "id": "k7n8L0VzTn1k",
      "metadata": {},
      "source": [
        "Let's see how one batch of the dataset looks like!\n"
      ]
    },
    {
      "cell_type": "code",
      "execution_count": null,
      "id": "5TF-wNQ2Tn1k",
      "metadata": {},
      "outputs": [
        {
          "name": "stdout",
          "output_type": "stream",
          "text": [
            "{'answer': array(['13'], dtype='<U2'),\n",
            " 'prompts': array(['<start_of_turn>user\\nYou are given a problem. Think about the problem and provide your reasoning. Place it between <reasoning> and </reasoning>. Then, provide the final answer (i.e., just one numerical value) between <answer> and </answer>.\\n\\nJane is painting her fingernails. She applies a base coat that takes 2 minutes to dry, two color coats that take 3 minutes each to dry, and a clear top coat that takes 5 minutes to dry. How many minutes total does Jane spend waiting for her nail polish to dry?<end_of_turn>\\n<start_of_turn>model'],\n",
            "      dtype='<U535'),\n",
            " 'question': array(['Jane is painting her fingernails. She applies a base coat that takes 2 minutes to dry, two color coats that take 3 minutes each to dry, and a clear top coat that takes 5 minutes to dry. How many minutes total does Jane spend waiting for her nail polish to dry?'],\n",
            "      dtype='<U260')}\n"
          ]
        }
      ],
      "source": [
        "for ele in train_dataset[:1]:\n",
        "  pprint(ele)"
      ]
    },
    {
      "cell_type": "markdown",
      "id": "BZxBR7Y_Tn1k",
      "metadata": {},
      "source": [
        "## Load the policy model and the reference model\n",
        "\n",
        "The policy model is the model which is actually trained and whose weights are\n",
        "updated. The reference model is the model with which we compute KL divergence.\n",
        "This is to ensure that the policy updates are not huge and that it does not\n",
        "deviate too much from the reference model.\n",
        "\n",
        "Typically, the reference model is the base model, and the policy model is the\n",
        "same base model, but with LoRA parameters. Only the LoRA parameters are updated.\n",
        "\n",
        "Note: We perform full precision (fp32) training. You can, however, leverage\n",
        "Qwix for QAT.\n",
        "\n",
        "To load the model, you need to be on [Kaggle](https://www.kaggle.com/) and need\n",
        "to have agreed to the Gemma license\n",
        "[here](https://www.kaggle.com/models/google/gemma/flax/)."
      ]
    },
    {
      "cell_type": "code",
      "execution_count": null,
      "id": "thp6hhqfTn1k",
      "metadata": {},
      "outputs": [
        {
          "data": {
            "application/vnd.jupyter.widget-view+json": {
              "model_id": "6d79dd559f164939812ac5f4649252de",
              "version_major": 2,
              "version_minor": 0
            },
            "text/plain": [
              "VBox(children=(HTML(value='<center> <img\\nsrc=https://www.kaggle.com/static/images/site-logo.png\\nalt=\\'Kaggle…"
            ]
          },
          "metadata": {},
          "output_type": "display_data"
        }
      ],
      "source": [
        "# # Log in\n",
        "# if \"KAGGLE_USERNAME\" not in os.environ or \"KAGGLE_KEY\" not in os.environ:\n",
        "#   kagglehub.login()"
      ]
    },
    {
      "cell_type": "code",
      "execution_count": null,
      "id": "srH2s_jzTn1k",
      "metadata": {},
      "outputs": [],
      "source": [
        "# kaggle_ckpt_path = kagglehub.model_download(\"google/gemma-2/flax/gemma2-2b-it\")\n",
        "kaggle_ckpt_path = kagglehub.model_download(\"google/gemma/flax/2b\")"
      ]
    },
    {
      "cell_type": "code",
      "execution_count": null,
      "id": "cIFAxgVOTn1k",
      "metadata": {},
      "outputs": [],
      "source": [
        "# # This is a workaround. The checkpoints on Kaggle don't work with NNX. So, we\n",
        "# # load the model, save the checkpoint locally, and then reload the model\n",
        "# # (sharded).\n",
        "# params = params_lib.load_and_format_params(\n",
        "#     os.path.join(kaggle_ckpt_path, \"gemma2-2b-it\")\n",
        "# )\n",
        "# gemma = gemma_lib.Transformer.from_params(params, version=\"2-2b-it\")\n",
        "# checkpointer = ocp.StandardCheckpointer()\n",
        "# _, state = nnx.split(gemma)\n",
        "# checkpointer.save(os.path.join(INTERMEDIATE_CKPT_DIR, \"state\"), state)"
      ]
    },
    {
      "cell_type": "code",
      "execution_count": null,
      "id": "JSz-XmQpTn1k",
      "metadata": {},
      "outputs": [],
      "source": [
        "# # Wait for the ckpt to save successfully.\n",
        "# time.sleep(60)"
      ]
    },
    {
      "cell_type": "code",
      "execution_count": null,
      "id": "_w8kav8sTn1k",
      "metadata": {},
      "outputs": [],
      "source": [
        "# # Delete the intermediate model to save memory.\n",
        "# del params\n",
        "# del gemma\n",
        "# del state\n",
        "# gc.collect()"
      ]
    },
    {
      "cell_type": "markdown",
      "id": "52b18135",
      "metadata": {},
      "source": [
        "### Load MaxText model"
      ]
    },
    {
      "cell_type": "code",
      "execution_count": null,
      "id": "b6aa758c",
      "metadata": {},
      "outputs": [
        {
          "name": "stderr",
          "output_type": "stream",
          "text": [
            "2025-07-30 19:19:01.514427: E external/local_xla/xla/stream_executor/cuda/cuda_fft.cc:467] Unable to register cuFFT factory: Attempting to register factory for plugin cuFFT when one has already been registered\n",
            "WARNING: All log messages before absl::InitializeLog() is called are written to STDERR\n",
            "E0000 00:00:1753903141.527457 1652758 cuda_dnn.cc:8579] Unable to register cuDNN factory: Attempting to register factory for plugin cuDNN when one has already been registered\n",
            "E0000 00:00:1753903141.531202 1652758 cuda_blas.cc:1407] Unable to register cuBLAS factory: Attempting to register factory for plugin cuBLAS when one has already been registered\n",
            "W0000 00:00:1753903141.542428 1652758 computation_placer.cc:177] computation placer already registered. Please check linkage and avoid linking the same target more than once.\n",
            "W0000 00:00:1753903141.542442 1652758 computation_placer.cc:177] computation placer already registered. Please check linkage and avoid linking the same target more than once.\n",
            "W0000 00:00:1753903141.542444 1652758 computation_placer.cc:177] computation placer already registered. Please check linkage and avoid linking the same target more than once.\n",
            "W0000 00:00:1753903141.542445 1652758 computation_placer.cc:177] computation placer already registered. Please check linkage and avoid linking the same target more than once.\n"
          ]
        }
      ],
      "source": [
        "import sys\n",
        "import os\n",
        "\n",
        "# add the parent directory (one level up) to sys.path\n",
        "sys.path.insert(0, os.path.abspath(os.path.join(os.getcwd(), '../../maxtext')))\n",
        "\n",
        "# ! pip install -r ../../maxtext/requirements.txt\n",
        "\n",
        "import MaxText as mt\n",
        "from MaxText import pyconfig\n",
        "\n"
      ]
    },
    {
      "cell_type": "markdown",
      "id": "eee062b3",
      "metadata": {},
      "source": [
        "#### Convert MaxText model to nnx (use a commit from MaxText repo prior to )\n",
        "\n"
      ]
    },
    {
      "cell_type": "code",
      "execution_count": null,
      "id": "m2KD-nmbTn1k",
      "metadata": {},
      "outputs": [],
      "source": [
        "from MaxText.integrations.tunix.tunix_utils import build_tunix_wrapper\n",
        "\n",
        "def get_ref_maxtext_model():\n",
        "\n",
        "  #python3 -m MaxText.train MaxText/configs/base.yml base_output_directory=${BASE_OUTPUT_DIRECTORY} dataset_path=${DATASET_PATH} tokenizer_path=assets/tokenizer.gemma load_parameters_path=${CONVERTED_CHECKPOINT} per_device_batch_size=1 run_name=${FINETUNE_RUN_NAME} max_target_length=8192 steps=10 async_checkpointing=false model_name=gemma-2b checkpoint_period=5\n",
        "\n",
        "  #TODO: @mazumdera: change this to use Gemma2-2b-it\n",
        "  config = pyconfig.initialize(\n",
        "      [\"\", \"../../maxtext/MaxText/configs/base.yml\"], #TODO: @mazumdera: why decode.py?\n",
        "      base_output_directory=\"gs://dummy_output_dir\",  # This is not used in Tunix.\n",
        "      run_name=\"test-tunix-maxtext-gemma-2b\",\n",
        "      # dataset_path=we use Tunix's dataset\n",
        "      # load_parameters_path=\"gs://maxtext-gemma/2b/\", #TODO: @mazumdera: change this to use checkpoint\n",
        "      tokenizer_path=\"../../maxtext/assets/tokenizer.gemma\",\n",
        "      per_device_batch_size=1,\n",
        "      max_target_length=8192,\n",
        "      steps=10,\n",
        "      async_checkpointing=\"false\",\n",
        "      model_name=\"gemma-2b\",\n",
        "      checkpoint_period=5,\n",
        "      skip_jax_distributed_system=\"true\",\n",
        "\n",
        "  )\n",
        "  #TODO: Anisha: \n",
        "  # model = mt.from_pretrained(config)\n",
        "  \n",
        "  rngs = nnx.Rngs(1234)\n",
        "  model = build_tunix_wrapper(\n",
        "        config,\n",
        "        rngs,\n",
        "        enable_dropout=False,   # deterministic SFT (you can override at runtime)\n",
        "        init_batch_size=1,\n",
        "        init_seq_len=1,\n",
        "        use_attention_mask=False,  # trust Tunix loss masking\n",
        "    )\n",
        "  mesh  = model.base.mesh\n",
        "  \n",
        "\n",
        "  # We can continue to use Tunix's model_config\n",
        "  model_config = gemma_lib.TransformerConfig.gemma2_2b()\n",
        "\n",
        "  # Add these lines to properly get the graph definition and state\n",
        "  graphdef, state = nnx.split(model)\n",
        "  model = nnx.merge(graphdef, state)  # Recreate model in proper NNX format\n",
        "    \n",
        "  \n",
        "  return model, mesh, model_config"
      ]
    },
    {
      "cell_type": "code",
      "execution_count": null,
      "id": "kSdZ7aGhTn1k",
      "metadata": {},
      "outputs": [
        {
          "name": "stdout",
          "output_type": "stream",
          "text": [
            "Updating keys from env and command line: ['run_name', 'model_name', 'async_checkpointing', 'checkpoint_period', 'base_output_directory', 'tokenizer_path', 'per_device_batch_size', 'steps', 'skip_jax_distributed_system', 'max_target_length']\n",
            "Running Model: gemma-2b\n",
            "Updating following parameters in config\n",
            "\n",
            "base_emb_dim: 2048\n",
            "base_num_query_heads: 8\n",
            "base_num_kv_heads: 1\n",
            "base_mlp_dim: 16384\n",
            "base_num_decoder_layers: 18\n",
            "head_dim: 256\n",
            "mlp_activations: ['gelu', 'linear']\n",
            "vocab_size: 256128\n",
            "decoder_block: gemma\n",
            "normalization_layer_epsilon: 1e-06\n",
            "logits_via_embedding: True\n",
            "Updating keys from model: ['base_emb_dim', 'base_num_query_heads', 'base_num_kv_heads', 'base_mlp_dim', 'base_num_decoder_layers', 'head_dim', 'mlp_activations', 'vocab_size', 'decoder_block', 'normalization_layer_epsilon', 'logits_via_embedding']\n",
            "Skipping jax distributed system due to skip_jax_distributed_system=True flag.\n",
            "Not using emergency checkpoint, ignoring local_checkpoint_directory, local_checkpoint_period, use_replicator_service and replicator_backup_interval_minutes\n",
            "dataset_type set to tfds, will use keys['dataset_path']='' and keys['dataset_name']='c4/en:3.0.1'\n",
            "Config param activations_in_float32: False\n",
            "Config param adam_b1: 0.9\n",
            "Config param adam_b2: 0.95\n",
            "Config param adam_eps: 1e-08\n",
            "Config param adam_eps_root: 0.0\n",
            "Config param adam_weight_decay: 0.1\n",
            "Config param add_bos: True\n",
            "Config param add_eos: True\n",
            "Config param allow_split_physical_axes: False\n",
            "Config param ar_cache_axis_order: 1,2,0,3\n",
            "Config param async_checkpointing: False\n",
            "Config param attention: autoselected\n",
            "Config param attention_type: global\n",
            "Config param attn_logits_soft_cap: None\n",
            "Config param autoregressive_decode_assert: \n",
            "Config param base_emb_dim: 2048\n",
            "Config param base_mlp_dim: 16384\n",
            "Config param base_moe_mlp_dim: 7168\n",
            "Config param base_num_decoder_layers: 18\n",
            "Config param base_num_kv_heads: 1\n",
            "Config param base_num_query_heads: 8\n",
            "Config param base_output_directory: gs://dummy_output_dir\n",
            "Config param beta_fast: 32\n",
            "Config param beta_slow: 1\n",
            "Config param capacity_factor: -1.0\n",
            "Config param cast_logits_to_fp32: True\n",
            "Config param checkpoint_dir: gs://dummy_output_dir/test-tunix-maxtext-gemma-2b/checkpoints/\n",
            "Config param checkpoint_is_quantized: False\n",
            "Config param checkpoint_period: 5\n",
            "Config param checkpoint_storage_concurrent_gb: 96\n",
            "Config param checkpoint_storage_target_data_file_size_bytes: 2147483648\n",
            "Config param checkpoint_storage_use_ocdbt: True\n",
            "Config param checkpoint_storage_use_zarr3: True\n",
            "Config param chunk_attn_window_size: 0\n",
            "Config param collect_stack_trace: False\n",
            "Config param colocated_python_data_input: False\n",
            "Config param compile_topology: \n",
            "Config param compile_topology_num_slices: -1\n",
            "Config param compiled_trainstep_file: \n",
            "Config param compute_axis_order: 0,1,2,3\n",
            "Config param constant_bound_config: []\n",
            "Config param context: remat\n",
            "Config param context_parallel_load_balance: True\n",
            "Config param cosine_learning_rate_final_fraction: 0.1\n",
            "Config param custom_mesh: \n",
            "Config param data_sharding: (('data', 'stage', 'fsdp', 'fsdp_transpose', 'sequence', 'context', 'context_autoregressive', 'tensor', 'tensor_transpose', 'tensor_sequence', 'expert', 'autoregressive'),)\n",
            "Config param data_shuffle_seed: 0\n",
            "Config param dataset_name: c4/en:3.0.1\n",
            "Config param dataset_path: \n",
            "Config param dataset_type: tfds\n",
            "Config param dcn_autoregressive_parallelism: 1\n",
            "Config param dcn_context_autoregressive_parallelism: 1\n",
            "Config param dcn_context_parallelism: 1\n",
            "Config param dcn_data_parallelism: -1\n",
            "Config param dcn_expert_parallelism: 1\n",
            "Config param dcn_fsdp_parallelism: 1\n",
            "Config param dcn_fsdp_transpose_parallelism: 1\n",
            "Config param dcn_parallelism: [-1, 1, 1, 1, 1, 1, 1, 1, 1, 1, 1, 1]\n",
            "Config param dcn_pipeline_parallelism: 1\n",
            "Config param dcn_sequence_parallelism: 1\n",
            "Config param dcn_tensor_parallelism: 1\n",
            "Config param dcn_tensor_sequence_parallelism: 1\n",
            "Config param dcn_tensor_transpose_parallelism: 1\n",
            "Config param decode_sampling_nucleus_p: -1\n",
            "Config param decode_sampling_strategy: greedy\n",
            "Config param decode_sampling_temperature: 1.0\n",
            "Config param decode_sampling_top_k: 0\n",
            "Config param decoder_block: DecoderBlockType.GEMMA\n",
            "Config param decoder_layer_input: device\n",
            "Config param dpo_beta: 0.1\n",
            "Config param dpo_label_smoothing: 0.0\n",
            "Config param dropout_rate: 0.0\n",
            "Config param dtype: bfloat16\n",
            "Config param dtype_mm: float32\n",
            "Config param dump_hlo: False\n",
            "Config param dump_hlo_delete_local_after: True\n",
            "Config param dump_hlo_gcs_dir: \n",
            "Config param dump_hlo_local_dir: /tmp/xla_dump/\n",
            "Config param dump_hlo_module_name: jit_train_step\n",
            "Config param dump_hlo_upload_all: False\n",
            "Config param dump_hlo_xla_flags: \n",
            "Config param dump_step: -1\n",
            "Config param emb_dim: 2048\n",
            "Config param enable_checkpoint_cloud_logger: False\n",
            "Config param enable_checkpointing: True\n",
            "Config param enable_data_shuffling: True\n",
            "Config param enable_dropout: True\n",
            "Config param enable_emergency_checkpoint: False\n",
            "Config param enable_gcp_goodput_metrics: True\n",
            "Config param enable_gcp_step_deviation_metrics: True\n",
            "Config param enable_goodput_recording: False\n",
            "Config param enable_jax_profiler: False\n",
            "Config param enable_llm_inference_pool: False\n",
            "Config param enable_model_warmup: False\n",
            "Config param enable_padding_causal_mask: True\n",
            "Config param enable_pathways_goodput: False\n",
            "Config param enable_prefix_caching: False\n",
            "Config param enable_single_controller: False\n",
            "Config param enable_single_replica_ckpt_restoring: False\n",
            "Config param enable_tensorboard: True\n",
            "Config param eval_data_columns: ['text']\n",
            "Config param eval_dataset_name: c4/en:3.0.1\n",
            "Config param eval_image_column: image\n",
            "Config param eval_interval: -1\n",
            "Config param eval_per_device_batch_size: 1.0\n",
            "Config param eval_split: validation\n",
            "Config param eval_steps: -1\n",
            "Config param expansion_factor_real_data: -1\n",
            "Config param final_logits_soft_cap: None\n",
            "Config param first_num_dense_layers: 0\n",
            "Config param float32_logits: False\n",
            "Config param float32_qk_product: False\n",
            "Config param force_unroll: False\n",
            "Config param freeze_vision_encoder_params: True\n",
            "Config param fused_mlp: False\n",
            "Config param fused_qkv: False\n",
            "Config param gcs_metrics: False\n",
            "Config param generate_slice: v5e-16\n",
            "Config param global_batch_size_to_eval_on: 1\n",
            "Config param global_batch_size_to_load: 1\n",
            "Config param global_batch_size_to_load_eval: 1\n",
            "Config param global_batch_size_to_train_on: 1\n"
          ]
        },
        {
          "name": "stdout",
          "output_type": "stream",
          "text": [
            "Config param global_parameter_scale: 1\n",
            "Config param goodput_upload_interval_seconds: 30\n",
            "Config param gradient_accumulation_steps: 1\n",
            "Config param gradient_clipping_threshold: 1.0\n",
            "Config param grain_eval_files: \n",
            "Config param grain_file_type: arrayrecord\n",
            "Config param grain_train_files: \n",
            "Config param grain_worker_count: 1\n",
            "Config param grain_worker_count_eval: 1\n",
            "Config param hardware: tpu\n",
            "Config param head_dim: 256\n",
            "Config param heartbeat_reporting_interval_in_seconds: 5\n",
            "Config param hf_data_dir: \n",
            "Config param hf_eval_files: \n",
            "Config param hf_eval_split: \n",
            "Config param hf_path: \n",
            "Config param hf_train_files: \n",
            "Config param hidden_size_for_vit: 1408\n",
            "Config param ici_autoregressive_parallelism: 1\n",
            "Config param ici_context_autoregressive_parallelism: 1\n",
            "Config param ici_context_parallelism: 1\n",
            "Config param ici_data_parallelism: 1\n",
            "Config param ici_expert_parallelism: 1\n",
            "Config param ici_fsdp_parallelism: -1\n",
            "Config param ici_fsdp_transpose_parallelism: 1\n",
            "Config param ici_parallelism: [1, 1, -1, 1, 1, 1, 1, 1, 1, 1, 1, 1]\n",
            "Config param ici_pipeline_parallelism: 1\n",
            "Config param ici_sequence_parallelism: 1\n",
            "Config param ici_tensor_parallelism: 1\n",
            "Config param ici_tensor_sequence_parallelism: 1\n",
            "Config param ici_tensor_transpose_parallelism: 1\n",
            "Config param image_path: \n",
            "Config param image_placeholder: <|image|>\n",
            "Config param image_size_for_vit: 896\n",
            "Config param inference_benchmark_test: False\n",
            "Config param inference_metadata_file: \n",
            "Config param inference_microbenchmark_log_file_path: \n",
            "Config param inference_microbenchmark_loop_iters: 10\n",
            "Config param inference_microbenchmark_num_samples: [1, 2, 3, 4, 5]\n",
            "Config param inference_microbenchmark_prefill_lengths: 64,128,256,512,1024\n",
            "Config param inference_microbenchmark_stages: prefill,generate\n",
            "Config param inference_server: MaxtextInterleavedServer\n",
            "Config param inhomogeneous_layer_cycle_interval: 1\n",
            "Config param init_weights_seed: 0\n",
            "Config param input_data_sharding_logical_axes: ['activation_embed_and_logits_batch', 'activation_norm_length']\n",
            "Config param interleave_moe_layer_step: 1\n",
            "Config param intermediate_size_for_vit: 5632\n",
            "Config param jax_cache_dir: ~/jax_cache\n",
            "Config param jax_debug_log_modules: \n",
            "Config param jax_distributed_initialization_timeout: 300\n",
            "Config param jax_profiler_port: 9999\n",
            "Config param key_proj: remat\n",
            "Config param kv_lora_rank: 512\n",
            "Config param kv_quant_axis: heads_and_dkv\n",
            "Config param kv_quant_dtype: int8\n",
            "Config param learning_rate: 3e-05\n",
            "Config param learning_rate_schedule_steps: 10\n",
            "Config param load_balance_loss_weight: 0.01\n",
            "Config param load_from_prefill_dir: False\n",
            "Config param load_full_state_path: \n",
            "Config param load_parameters_path: \n",
            "Config param local_checkpoint_directory: \n",
            "Config param local_checkpoint_period: 0\n",
            "Config param local_rope_max_timescale: -1\n",
            "Config param log_config: True\n",
            "Config param log_period: 100\n",
            "Config param logical_axis_rules: (('activation_batch', ('data', 'fsdp', 'fsdp_transpose', 'expert')), ('activation_batch_no_exp', ('data', 'fsdp', 'fsdp_transpose')), ('activation_embed_and_logits_batch', ('data', 'stage', 'fsdp', 'fsdp_transpose', 'expert')), ('activation_heads', ('tensor', 'tensor_transpose', 'sequence', 'tensor_sequence', 'autoregressive')), ('activation_kv_heads', ('tensor', 'tensor_transpose', 'sequence', 'tensor_sequence')), ('activation_length', ('sequence', 'context')), ('prefill_activation_length', ('sequence', 'context')), ('activation_length', ('context',)), ('activation_norm_length', ('tensor_sequence', 'context', 'sequence')), ('prefill_activation_norm_length', ('tensor_sequence', 'context', 'sequence')), ('activation_q_length', ('context',)), ('activation_kv_length', ()), ('activation_embed', ('tensor', 'tensor_transpose')), ('activation_mlp', ('tensor', 'tensor_transpose', 'tensor_sequence')), ('activation_kv', ('tensor', 'tensor_transpose', 'tensor_sequence')), ('activation_prefill_kv_batch', ('data', 'fsdp', 'fsdp_transpose', 'expert')), ('activation_kv_batch', ('data', 'fsdp', 'fsdp_transpose', 'expert')), ('activation_kv_head_dim', ('tensor', 'tensor_transpose', 'tensor_sequence')), ('activation_vocab', ('tensor', 'tensor_transpose', 'sequence', 'tensor_sequence')), ('activation_vocab', ('tensor', 'tensor_transpose')), ('activation_vocab', 'tensor_sequence'), ('activation_vocab', ('sequence', 'context')), ('activation_stage', 'stage'), ('activation_exp', ('expert',)), ('decode_batch', ('data', 'fsdp', 'fsdp_transpose', 'expert')), ('decode_length', ('sequence',)), ('mlp', ('fsdp_transpose', 'tensor', 'tensor_sequence', 'autoregressive')), ('vocab', ('tensor', 'tensor_transpose', 'tensor_sequence', 'autoregressive')), ('heads', ('tensor', 'tensor_transpose', 'tensor_sequence', 'autoregressive')), ('q_heads', ('tensor', 'tensor_transpose', 'tensor_sequence', 'autoregressive')), ('kv_heads', ('tensor', 'tensor_transpose', 'tensor_sequence', 'autoregressive')), ('embed', ('fsdp', 'fsdp_transpose', 'sequence', 'tensor_transpose', 'context', 'expert')), ('embed', ('fsdp', 'sequence', 'tensor_transpose', 'context', 'expert')), ('embed', ('fsdp', 'fsdp_transpose', 'sequence', 'context', 'expert')), ('embed', ('fsdp', 'sequence', 'context', 'expert')), ('embed_no_exp', ('fsdp', 'fsdp_transpose', 'sequence', 'tensor_transpose', 'context')), ('embed_no_exp', ('fsdp', 'sequence', 'tensor_transpose', 'context')), ('embed_no_exp', ('fsdp', 'fsdp_transpose', 'sequence', 'context')), ('embed_no_exp', ('fsdp', 'sequence', 'context')), ('q_lora', ('fsdp', 'fsdp_transpose', 'sequence', 'context', 'tensor_transpose', 'expert')), ('q_lora', ('fsdp', 'sequence', 'context', 'tensor_transpose', 'expert')), ('q_lora', ('fsdp', 'fsdp_transpose', 'sequence', 'context', 'expert')), ('q_lora', ('fsdp', 'sequence', 'context', 'expert')), ('kv_lora', ('fsdp', 'fsdp_transpose', 'sequence', 'context', 'tensor_transpose', 'expert')), ('kv_lora', ('fsdp', 'sequence', 'context', 'tensor_transpose', 'expert')), ('kv_lora', ('fsdp', 'fsdp_transpose', 'sequence', 'context', 'expert')), ('kv_lora', ('fsdp', 'sequence', 'context', 'expert')), ('norm', ('tensor', 'tensor_transpose', 'tensor_sequence')), ('layers', 'stage'), ('kv', ()), ('kv_head_dim', ()), ('cache_batch_prefill', ()), ('cache_batch', ()), ('cache_heads_none', ()), ('cache_heads', ('autoregressive', 'tensor', 'tensor_transpose', 'tensor_sequence')), ('cache_heads', ('autoregressive', 'tensor', 'tensor_sequence')), ('cache_kv', ()), ('cache_sequence', ()), ('exp', 'expert'), ('paged_kv_heads', ('tensor',)), ('num_pages', ()), ('tokens_per_page', ()), ('paged_kv_head_dim_size', ()))\n",
            "Config param logits_dot_in_fp32: False\n",
            "Config param logits_via_embedding: True\n",
            "Config param lora_input_adapters_path: \n",
            "Config param matmul_precision: default\n",
            "Config param max_checkify: False\n",
            "Config param max_corpus_chars: 10000000\n",
            "Config param max_position_embeddings: 163840\n",
            "Config param max_prefill_predict_length: 64\n",
            "Config param max_target_length: 8192\n",
            "Config param megablox: True\n",
            "Config param mesh_axes: ['data', 'stage', 'fsdp', 'fsdp_transpose', 'sequence', 'context', 'context_autoregressive', 'tensor', 'tensor_transpose', 'tensor_sequence', 'expert', 'autoregressive']\n",
            "Config param metrics_dir: gs://dummy_output_dir/test-tunix-maxtext-gemma-2b/metrics/\n",
            "Config param metrics_file: \n",
            "Config param micro_batch_size_to_eval_on: 1\n",
            "Config param micro_batch_size_to_train_on: 1\n",
            "Config param mla_naive_kvcache: True\n",
            "Config param mlp_activations: ['gelu', 'linear']\n",
            "Config param mlp_dim: 16384\n",
            "Config param mlpwi: remat\n",
            "Config param mlpwi_0: remat\n",
            "Config param mlpwi_1: remat\n",
            "Config param mlpwo: remat\n",
            "Config param model_call_mode: \n",
            "Config param model_fsdp_ag_once: False\n",
            "Config param model_name: gemma-2b\n",
            "Config param moe_mlp_dim: 7168\n",
            "Config param monitor_goodput: False\n",
            "Config param monitor_step_time_deviation: True\n",
            "Config param mscale: 1.0\n",
            "Config param mtp_eval_target_module: 0\n",
            "Config param mtp_loss_scaling_factor: 0.1\n",
            "Config param mtp_num_layers: 0\n",
            "Config param mu_dtype: float32\n",
            "Config param multi_sampling: False\n",
            "Config param n_routing_groups: -1\n",
            "Config param nope_layer_interval: -1\n",
            "Config param normalization_layer_epsilon: 1e-06\n",
            "Config param normalize_embedding_logits: True\n",
            "Config param num_attention_heads_for_vit: 16\n",
            "Config param num_channels_for_vit: 3\n",
            "Config param num_decoder_layers: 18\n",
            "Config param num_epoch: 1\n",
            "Config param num_experts: 1\n",
            "Config param num_experts_per_tok: 1\n",
            "Config param num_hidden_layers_for_vit: 34\n",
            "Config param num_kv_heads: 1\n",
            "Config param num_layers_per_pipeline_stage: 1\n",
            "Config param num_pipeline_microbatches: -1\n",
            "Config param num_pipeline_repeats: -1\n",
            "Config param num_query_heads: 8\n",
            "Config param num_slices: 1\n",
            "Config param opt_type: adamw\n",
            "Config param optimize_mesh_for_tpu_v6e: False\n",
            "Config param optimizer_memory_host_offload: False\n",
            "Config param original_max_position_embeddings: 4096\n",
            "Config param out_proj: remat\n",
            "Config param override_model_config: False\n",
            "Config param packing: True\n",
            "Config param pagedattn_head_dim_alignment: 128\n",
            "Config param pagedattn_max_pages_per_group: 256\n",
            "Config param pagedattn_num_pages: 64\n",
            "Config param pagedattn_pages_per_compute_block: 4\n",
            "Config param pagedattn_tokens_per_page: 32\n",
            "Config param param_scan_axis: 1\n",
            "Config param parameter_memory_host_offload: False\n",
            "Config param patch_size_for_vit: 14\n",
            "Config param per_device_batch_size: 1.0\n",
            "Config param pipeline_delay_activation_forwarding: False\n",
            "Config param pipeline_fsdp_ag_once: False\n",
            "Config param pipeline_parallel_layers: -1\n",
            "Config param pixel_shuffle_ratio_for_vit: 0.5\n",
            "Config param prefill_cache_axis_order: 1,2,0,3\n",
            "Config param prefill_cache_dir: \n",
            "Config param prefill_chunk_size: 256\n",
            "Config param prefill_slice: v5e-16\n",
            "Config param prefix_caching_dram_byte: 100000000000\n",
            "Config param prefix_caching_hbm_byte: 10000000000\n",
            "Config param profile_cleanly: True\n",
            "Config param profile_periodically_period: -1\n",
            "Config param profiler: \n",
            "Config param profiler_steps: 5\n",
            "Config param projector_dropout_for_vit: 0.0\n",
            "Config param projector_input_dim_for_vit: 4096\n",
            "Config param projector_output_dim_for_vit: 4096\n",
            "Config param prometheus_port: 0\n",
            "Config param prompt: I love to\n",
            "Config param q_lora_rank: 0\n",
            "Config param qk_nope_head_dim: 128\n",
            "Config param qk_rope_head_dim: 64\n",
            "Config param qkv_proj: remat\n",
            "Config param quant_cfg_path: \n",
            "Config param quantization: \n",
            "Config param quantization_local_shard_count: 1\n",
            "Config param quantize_kvcache: False\n",
            "Config param query_proj: remat\n",
            "Config param ragged_block_size: 256\n",
            "Config param record_internal_nn_metrics: 0\n",
            "Config param remat_policy: full\n",
            "Config param remat_policy_for_vit: minimal\n",
            "Config param replicate_quant_scale: False\n",
            "Config param replicator_backup_interval_minutes: 0\n",
            "Config param report_heartbeat_metric_for_gcp_monitoring: False\n",
            "Config param report_performance_metric_for_gcp_monitoring: False\n",
            "Config param reshape_q: False\n",
            "Config param return_log_prob: False\n",
            "Config param reuse_example_batch: 0\n",
            "Config param rope_factor: 40\n",
            "Config param rope_max_timescale: 10000\n",
            "Config param rope_min_timescale: 1\n",
            "Config param rope_theta_for_vit: 10000\n",
            "Config param rope_type: default\n",
            "Config param rope_use_scale: True\n",
            "Config param routed_bias: False\n",
            "Config param routed_scaling_factor: 1.0\n",
            "Config param routed_score_func: \n",
            "Config param run_name: test-tunix-maxtext-gemma-2b\n",
            "Config param sa_block_kv: 512\n",
            "Config param sa_block_kv_compute: 512\n",
            "Config param sa_block_kv_dkv: 512\n",
            "Config param sa_block_kv_dkv_compute: 512\n",
            "Config param sa_block_kv_dq: 512\n",
            "Config param sa_block_q: 512\n",
            "Config param sa_block_q_dkv: 512\n",
            "Config param sa_block_q_dq: 512\n",
            "Config param sa_k_layout: HEAD_DIM_MINOR\n",
            "Config param sa_q_layout: HEAD_DIM_MINOR\n",
            "Config param sa_use_fused_bwd_kernel: False\n",
            "Config param sa_v_layout: HEAD_DIM_MINOR\n",
            "Config param save_config_to_gcs: False\n",
            "Config param save_quantized_params_path: \n",
            "Config param scan_layers: True\n",
            "Config param scan_layers_per_stage: False\n",
            "Config param scan_pipeline_iterations: True\n",
            "Config param set_remat_policy_on_layers_per_stage: False\n",
            "Config param set_remat_policy_on_pipeline_iterations: True\n",
            "Config param sft_train_on_completion_only: False\n",
            "Config param sharding_tolerance: 0.02\n",
            "Config param shared_experts: 1\n",
            "Config param skip_first_n_steps_for_profiler: 1\n",
            "Config param skip_jax_distributed_system: True\n",
            "Config param sliding_window_size: 0\n",
            "Config param sparse_matmul: True\n",
            "Config param stack_prefill_result_cache: False\n",
            "Config param stack_trace_interval_seconds: 600\n",
            "Config param stack_trace_to_cloud: False\n",
            "Config param step_deviation_interval_seconds: 30\n",
            "Config param steps: 10\n",
            "Config param subslice_shape: \n",
            "Config param target_eval_loss: 0.0\n",
            "Config param temperature_tuning: False\n",
            "Config param tensorboard_dir: gs://dummy_output_dir/test-tunix-maxtext-gemma-2b/tensorboard/\n",
            "Config param tile_activation_dim: 1024\n",
            "Config param tile_batch_seq: 512\n",
            "Config param tile_size_for_vit: 336\n",
            "Config param tile_weight_dim: 1024\n",
            "Config param tokenize_eval_data: True\n",
            "Config param tokenize_train_data: True\n",
            "Config param tokenizer_path: ../../maxtext/assets/tokenizer.gemma\n",
            "Config param tokenizer_type: sentencepiece\n",
            "Config param topk_routing_group: -1\n",
            "Config param train_data_columns: ['text']\n",
            "Config param train_image_column: image\n",
            "Config param train_split: train\n",
            "Config param trainable_position_size: -1\n",
            "Config param upload_all_profiler_results: False\n",
            "Config param use_chat_template: False\n",
            "Config param use_chunked_prefill: False\n",
            "Config param use_dpo: False\n",
            "Config param use_iota_embed: False\n",
            "Config param use_multimodal: False\n",
            "Config param use_post_attn_norm: False\n",
            "Config param use_post_ffw_norm: False\n",
            "Config param use_qk_norm: False\n",
            "Config param use_ragged_attention: False\n",
            "Config param use_random_routing: False\n",
            "Config param use_replicator_service: False\n",
            "Config param use_sft: False\n",
            "Config param use_untrainable_positional_embedding: False\n",
            "Config param use_vertex_tensorboard: False\n",
            "Config param using_pipeline_parallelism: False\n",
            "Config param v_head_dim: 128\n",
            "Config param value_proj: remat\n",
            "Config param vertex_tensorboard_project: \n",
            "Config param vertex_tensorboard_region: \n",
            "Config param vision_output_dim_for_vit: 4096\n",
            "Config param vocab_size: 256128\n",
            "Config param warmup_steps_fraction: 0.1\n",
            "Config param weight_dtype: float32\n",
            "Num_devices: 1, shape (1, 1, 1, 1, 1, 1, 1, 1, 1, 1, 1, 1)\n"
          ]
        },
        {
          "name": "stderr",
          "output_type": "stream",
          "text": [
            "/home/mazumdera_google_com/venv-py311/lib/python3.11/site-packages/treescope/renderers.py:251: UserWarning: Ignoring error inside wrapper hook <function replace_with_canonical_aliases at 0x7b1049768180>:\n",
            "Traceback (most recent call last):\n",
            "  File \"/home/mazumdera_google_com/venv-py311/lib/python3.11/site-packages/treescope/renderers.py\", line 225, in _render_subtree\n",
            "    postprocessed_result = hook(\n",
            "                           ^^^^^\n",
            "  File \"/home/mazumdera_google_com/venv-py311/lib/python3.11/site-packages/treescope/_internal/handlers/canonical_alias_postprocessor.py\", line 78, in replace_with_canonical_aliases\n",
            "    maybe_alias = canonical_aliases.lookup_alias(\n",
            "                  ^^^^^^^^^^^^^^^^^^^^^^^^^^^^^^^\n",
            "  File \"/home/mazumdera_google_com/venv-py311/lib/python3.11/site-packages/treescope/canonical_aliases.py\", line 317, in lookup_alias\n",
            "    unwrapped = inspect.unwrap(the_object)\n",
            "                ^^^^^^^^^^^^^^^^^^^^^^^^^^\n",
            "  File \"/usr/lib/python3.11/inspect.py\", line 756, in unwrap\n",
            "    while not isinstance(func, type) and hasattr(func, '__wrapped__'):\n",
            "                                         ^^^^^^^^^^^^^^^^^^^^^^^^^^^^\n",
            "  File \"/home/mazumdera_google_com/maxtext/MaxText/pyconfig.py\", line 1108, in __getattr__\n",
            "    return object.__getattribute__(self, \"_config\").keys[attr]\n",
            "           ~~~~~~~~~~~~~~~~~~~~~~~~~~~~~~~~~~~~~~~~~~~~~^^^^^^\n",
            "KeyError: '__wrapped__'\n",
            "\n",
            "  warnings.warn(\n"
          ]
        },
        {
          "data": {
            "text/html": [
              "<script> (()=>{ if (customElements.get('treescope-container') === undefined) { class TreescopeContainer extends HTMLElement { constructor() { super(); this.attachShadow({mode: \"open\"}); this.defns = {}; this.state = {}; } } customElements.define(\"treescope-container\", TreescopeContainer); } if (customElements.get('treescope-run-here') === undefined) { class RunHere extends HTMLElement { constructor() { super() } connectedCallback() { const run = child => { const fn = new Function(child.textContent); child.textContent = \"\"; fn.call(this); this.remove(); }; const child = this.querySelector(\"script\"); if (child) { run(child); } else { new MutationObserver(()=>{ run(this.querySelector(\"script\")); }).observe(this, {childList: true}); } } } customElements.define(\"treescope-run-here\", RunHere); } })(); </script> <treescope-container class=\"treescope_out_1b22b5f422df4c43bd30009cdbf4a7af\" style=\"display:block\"></treescope-container> <treescope-run-here><script type=\"application/octet-stream\"> const root = ( Array.from(document.getElementsByClassName( \"treescope_out_1b22b5f422df4c43bd30009cdbf4a7af\")) .filter((elt) => !elt.dataset.setup) )[0]; root.dataset.setup = 1; const msg = document.createElement(\"span\"); msg.style = \"color: #cccccc; font-family: monospace;\"; msg.textContent = \"(Loading...)\"; root.state.loadingMsg = msg; root.shadowRoot.appendChild(msg); root.state.chain = new Promise((resolve, reject) => { const observer = new IntersectionObserver((entries) => { for (const entry of entries) { if (entry.isIntersecting) { resolve(); observer.disconnect(); return; } } }, {rootMargin: \"1000px\"}); window.setTimeout(() => { observer.observe(root); }, 0); }); root.state.deferring = false; const _insertNode = (node) => { for (let oldScript of node.querySelectorAll(\"script\")) { let newScript = document.createElement(\"script\"); newScript.type = oldScript.type; newScript.textContent = oldScript.textContent; oldScript.parentNode.replaceChild(newScript, oldScript); } if (root.state.loadingMsg) { root.state.loadingMsg.remove(); root.state.loadingMsg = null; } root.shadowRoot.appendChild(node); }; root.defns.insertContent = ((contentNode, compressed) => { if (compressed) { root.state.deferring = true; } if (root.state.deferring) { root.state.chain = (async () => { await root.state.chain; if (compressed) { const encoded = contentNode.textContent; const blob = new Blob([ Uint8Array.from(atob(encoded), (m) => m.codePointAt(0)) ]); const reader = blob.stream().pipeThrough( new DecompressionStream(\"deflate\") ).pipeThrough( new TextDecoderStream(\"utf-8\") ).getReader(); const parts = []; while (true) { const step = await reader.read(); if (step.done) { break; } parts.push(step.value); } const tpl = document.createElement('template'); tpl.innerHTML = parts.join(\"\"); _insertNode(tpl.content); } else { _insertNode(contentNode.content); } })(); } else { _insertNode(contentNode.content); } }); </script></treescope-run-here><div style=\"display:none\"> <script type=\"application/octet-stream\" >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</script> <treescope-run-here><script type=\"application/octet-stream\"> const root = ( Array.from(document.getElementsByClassName( \"treescope_out_1b22b5f422df4c43bd30009cdbf4a7af\")) .filter((elt) => !elt.dataset['step0']) )[0]; root.dataset['step0'] = 1; root.defns.insertContent( this.parentNode.querySelector('script[type=\"application/octet-stream\"]'), true ); this.parentNode.remove(); </script></treescope-run-here> </div>"
            ],
            "text/plain": [
              "<IPython.core.display.HTML object>"
            ]
          },
          "metadata": {},
          "output_type": "display_data"
        },
        {
          "data": {
            "text/html": [
              "<div style=\"display:none\"> <script type=\"application/octet-stream\" >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</script> <treescope-run-here><script type=\"application/octet-stream\"> const root = ( Array.from(document.getElementsByClassName( \"treescope_out_1b22b5f422df4c43bd30009cdbf4a7af\")) .filter((elt) => !elt.dataset['step1']) )[0]; root.dataset['step1'] = 1; root.defns.insertContent( this.parentNode.querySelector('script[type=\"application/octet-stream\"]'), true ); this.parentNode.remove(); </script></treescope-run-here> </div>"
            ],
            "text/plain": [
              "<IPython.core.display.HTML object>"
            ]
          },
          "metadata": {},
          "output_type": "display_data"
        },
        {
          "name": "stdout",
          "output_type": "stream",
          "text": [
            "Model initialized successfully\n",
            "Model mesh shape: OrderedDict([('data', 1), ('stage', 1), ('fsdp', 1), ('fsdp_transpose', 1), ('sequence', 1), ('context', 1), ('context_autoregressive', 1), ('tensor', 1), ('tensor_transpose', 1), ('tensor_sequence', 1), ('expert', 1), ('autoregressive', 1)])\n",
            "Model config: TransformerConfig(num_layers=26, num_embed=256128, embed_dim=2304, hidden_dim=9216, num_heads=8, head_dim=256, num_kv_heads=4, final_logit_softcap=30.0, use_post_attn_norm=True, use_post_ffw_norm=True, attention_types=(<AttentionType.LOCAL_SLIDING: 2>, <AttentionType.GLOBAL: 1>, <AttentionType.LOCAL_SLIDING: 2>, <AttentionType.GLOBAL: 1>, <AttentionType.LOCAL_SLIDING: 2>, <AttentionType.GLOBAL: 1>, <AttentionType.LOCAL_SLIDING: 2>, <AttentionType.GLOBAL: 1>, <AttentionType.LOCAL_SLIDING: 2>, <AttentionType.GLOBAL: 1>, <AttentionType.LOCAL_SLIDING: 2>, <AttentionType.GLOBAL: 1>, <AttentionType.LOCAL_SLIDING: 2>, <AttentionType.GLOBAL: 1>, <AttentionType.LOCAL_SLIDING: 2>, <AttentionType.GLOBAL: 1>, <AttentionType.LOCAL_SLIDING: 2>, <AttentionType.GLOBAL: 1>, <AttentionType.LOCAL_SLIDING: 2>, <AttentionType.GLOBAL: 1>, <AttentionType.LOCAL_SLIDING: 2>, <AttentionType.GLOBAL: 1>, <AttentionType.LOCAL_SLIDING: 2>, <AttentionType.GLOBAL: 1>, <AttentionType.LOCAL_SLIDING: 2>, <AttentionType.GLOBAL: 1>), attn_logits_soft_cap=50.0, sliding_window_size=4096, shd_config=ShardingConfig(emb_vd=('tp', 'fsdp'), q_weight_ndh=('tp', 'fsdp', None), kv_weight_cndh=(None, 'tp', 'fsdp', None), qkv_weight_cndh=(None, 'tp', 'fsdp', None), o_weight_nhd=('tp', None, 'fsdp'), ffw_weight_df=('fsdp', 'tp'), ffw_weight_fd=('tp', 'fsdp'), rms_norm_weight=('tp',), act_btd=('fsdp', None, 'tp'), act_btf=('fsdp', None, 'tp'), act_btnh=('fsdp', None, 'tp', None)))\n"
          ]
        }
      ],
      "source": [
        "# Base model\n",
        "# gemma, mesh, model_config = get_base_model(\n",
        "#     ckpt_path=os.path.join(INTERMEDIATE_CKPT_DIR, \"state\")\n",
        "# )\n",
        "\n",
        "gemma, mesh, model_config = get_ref_maxtext_model()\n",
        "# gemma_maxtext_nnx = nnx.bridge.ToNNX(gemma)\n",
        "# Instead of:\n",
        "nnx.display(gemma)\n",
        "\n",
        "# Use:\n",
        "print(\"Model initialized successfully\")\n",
        "print(f\"Model mesh shape: {mesh.shape}\")\n",
        "print(f\"Model config: {model_config}\")"
      ]
    },
    {
      "cell_type": "code",
      "execution_count": null,
      "id": "4f04a92e",
      "metadata": {},
      "outputs": [
        {
          "name": "stdout",
          "output_type": "stream",
          "text": [
            "Updating keys from env and command line: ['run_name', 'model_name', 'async_checkpointing', 'checkpoint_period', 'base_output_directory', 'tokenizer_path', 'per_device_batch_size', 'steps', 'skip_jax_distributed_system', 'max_target_length']\n",
            "Running Model: gemma-2b\n",
            "Updating following parameters in config\n",
            "\n",
            "base_emb_dim: 2048\n",
            "base_num_query_heads: 8\n",
            "base_num_kv_heads: 1\n",
            "base_mlp_dim: 16384\n",
            "base_num_decoder_layers: 18\n",
            "head_dim: 256\n",
            "mlp_activations: ['gelu', 'linear']\n",
            "vocab_size: 256128\n",
            "decoder_block: gemma\n",
            "normalization_layer_epsilon: 1e-06\n",
            "logits_via_embedding: True\n",
            "Updating keys from model: ['base_emb_dim', 'base_num_query_heads', 'base_num_kv_heads', 'base_mlp_dim', 'base_num_decoder_layers', 'head_dim', 'mlp_activations', 'vocab_size', 'decoder_block', 'normalization_layer_epsilon', 'logits_via_embedding']\n",
            "Skipping jax distributed system due to skip_jax_distributed_system=True flag.\n",
            "Not using emergency checkpoint, ignoring local_checkpoint_directory, local_checkpoint_period, use_replicator_service and replicator_backup_interval_minutes\n",
            "dataset_type set to tfds, will use keys['dataset_path']='' and keys['dataset_name']='c4/en:3.0.1'\n",
            "Config param activations_in_float32: False\n",
            "Config param adam_b1: 0.9\n",
            "Config param adam_b2: 0.95\n",
            "Config param adam_eps: 1e-08\n",
            "Config param adam_eps_root: 0.0\n",
            "Config param adam_weight_decay: 0.1\n",
            "Config param add_bos: True\n",
            "Config param add_eos: True\n",
            "Config param allow_split_physical_axes: False\n",
            "Config param ar_cache_axis_order: 1,2,0,3\n",
            "Config param async_checkpointing: False\n",
            "Config param attention: autoselected\n",
            "Config param attention_type: global\n",
            "Config param attn_logits_soft_cap: None\n",
            "Config param autoregressive_decode_assert: \n",
            "Config param base_emb_dim: 2048\n",
            "Config param base_mlp_dim: 16384\n",
            "Config param base_moe_mlp_dim: 7168\n",
            "Config param base_num_decoder_layers: 18\n",
            "Config param base_num_kv_heads: 1\n",
            "Config param base_num_query_heads: 8\n",
            "Config param base_output_directory: gs://dummy_output_dir\n",
            "Config param beta_fast: 32\n",
            "Config param beta_slow: 1\n",
            "Config param capacity_factor: -1.0\n",
            "Config param cast_logits_to_fp32: True\n",
            "Config param checkpoint_dir: gs://dummy_output_dir/test-tunix-maxtext-gemma-2b/checkpoints/\n",
            "Config param checkpoint_is_quantized: False\n",
            "Config param checkpoint_period: 5\n",
            "Config param checkpoint_storage_concurrent_gb: 96\n",
            "Config param checkpoint_storage_target_data_file_size_bytes: 2147483648\n",
            "Config param checkpoint_storage_use_ocdbt: True\n",
            "Config param checkpoint_storage_use_zarr3: True\n",
            "Config param chunk_attn_window_size: 0\n",
            "Config param collect_stack_trace: False\n",
            "Config param colocated_python_data_input: False\n",
            "Config param compile_topology: \n",
            "Config param compile_topology_num_slices: -1\n",
            "Config param compiled_trainstep_file: \n",
            "Config param compute_axis_order: 0,1,2,3\n",
            "Config param constant_bound_config: []\n",
            "Config param context: remat\n",
            "Config param context_parallel_load_balance: True\n",
            "Config param cosine_learning_rate_final_fraction: 0.1\n",
            "Config param custom_mesh: \n",
            "Config param data_sharding: (('data', 'stage', 'fsdp', 'fsdp_transpose', 'sequence', 'context', 'context_autoregressive', 'tensor', 'tensor_transpose', 'tensor_sequence', 'expert', 'autoregressive'),)\n",
            "Config param data_shuffle_seed: 0\n",
            "Config param dataset_name: c4/en:3.0.1\n",
            "Config param dataset_path: \n",
            "Config param dataset_type: tfds\n",
            "Config param dcn_autoregressive_parallelism: 1\n",
            "Config param dcn_context_autoregressive_parallelism: 1\n",
            "Config param dcn_context_parallelism: 1\n",
            "Config param dcn_data_parallelism: -1\n",
            "Config param dcn_expert_parallelism: 1\n",
            "Config param dcn_fsdp_parallelism: 1\n",
            "Config param dcn_fsdp_transpose_parallelism: 1\n",
            "Config param dcn_parallelism: [-1, 1, 1, 1, 1, 1, 1, 1, 1, 1, 1, 1]\n",
            "Config param dcn_pipeline_parallelism: 1\n",
            "Config param dcn_sequence_parallelism: 1\n",
            "Config param dcn_tensor_parallelism: 1\n",
            "Config param dcn_tensor_sequence_parallelism: 1\n",
            "Config param dcn_tensor_transpose_parallelism: 1\n",
            "Config param decode_sampling_nucleus_p: -1\n",
            "Config param decode_sampling_strategy: greedy\n",
            "Config param decode_sampling_temperature: 1.0\n",
            "Config param decode_sampling_top_k: 0\n",
            "Config param decoder_block: DecoderBlockType.GEMMA\n",
            "Config param decoder_layer_input: device\n",
            "Config param dpo_beta: 0.1\n",
            "Config param dpo_label_smoothing: 0.0\n",
            "Config param dropout_rate: 0.0\n",
            "Config param dtype: bfloat16\n",
            "Config param dtype_mm: float32\n",
            "Config param dump_hlo: False\n",
            "Config param dump_hlo_delete_local_after: True\n",
            "Config param dump_hlo_gcs_dir: \n",
            "Config param dump_hlo_local_dir: /tmp/xla_dump/\n",
            "Config param dump_hlo_module_name: jit_train_step\n",
            "Config param dump_hlo_upload_all: False\n",
            "Config param dump_hlo_xla_flags: \n",
            "Config param dump_step: -1\n",
            "Config param emb_dim: 2048\n",
            "Config param enable_checkpoint_cloud_logger: False\n",
            "Config param enable_checkpointing: True\n",
            "Config param enable_data_shuffling: True\n",
            "Config param enable_dropout: True\n",
            "Config param enable_emergency_checkpoint: False\n",
            "Config param enable_gcp_goodput_metrics: True\n",
            "Config param enable_gcp_step_deviation_metrics: True\n",
            "Config param enable_goodput_recording: False\n",
            "Config param enable_jax_profiler: False\n",
            "Config param enable_llm_inference_pool: False\n",
            "Config param enable_model_warmup: False\n",
            "Config param enable_padding_causal_mask: True\n",
            "Config param enable_pathways_goodput: False\n",
            "Config param enable_prefix_caching: False\n",
            "Config param enable_single_controller: False\n",
            "Config param enable_single_replica_ckpt_restoring: False\n",
            "Config param enable_tensorboard: True\n",
            "Config param eval_data_columns: ['text']\n",
            "Config param eval_dataset_name: c4/en:3.0.1\n",
            "Config param eval_image_column: image\n",
            "Config param eval_interval: -1\n",
            "Config param eval_per_device_batch_size: 1.0\n",
            "Config param eval_split: validation\n",
            "Config param eval_steps: -1\n",
            "Config param expansion_factor_real_data: -1\n",
            "Config param final_logits_soft_cap: None\n",
            "Config param first_num_dense_layers: 0\n",
            "Config param float32_logits: False\n",
            "Config param float32_qk_product: False\n",
            "Config param force_unroll: False\n",
            "Config param freeze_vision_encoder_params: True\n",
            "Config param fused_mlp: False\n",
            "Config param fused_qkv: False\n",
            "Config param gcs_metrics: False\n",
            "Config param generate_slice: v5e-16\n",
            "Config param global_batch_size_to_eval_on: 1\n",
            "Config param global_batch_size_to_load: 1\n",
            "Config param global_batch_size_to_load_eval: 1\n",
            "Config param global_batch_size_to_train_on: 1\n",
            "Config param global_parameter_scale: 1\n",
            "Config param goodput_upload_interval_seconds: 30\n",
            "Config param gradient_accumulation_steps: 1\n",
            "Config param gradient_clipping_threshold: 1.0\n",
            "Config param grain_eval_files: \n",
            "Config param grain_file_type: arrayrecord\n",
            "Config param grain_train_files: \n",
            "Config param grain_worker_count: 1\n",
            "Config param grain_worker_count_eval: 1\n",
            "Config param hardware: tpu\n",
            "Config param head_dim: 256\n",
            "Config param heartbeat_reporting_interval_in_seconds: 5\n",
            "Config param hf_data_dir: \n",
            "Config param hf_eval_files: \n",
            "Config param hf_eval_split: \n",
            "Config param hf_path: \n",
            "Config param hf_train_files: \n",
            "Config param hidden_size_for_vit: 1408\n",
            "Config param ici_autoregressive_parallelism: 1\n",
            "Config param ici_context_autoregressive_parallelism: 1\n",
            "Config param ici_context_parallelism: 1\n",
            "Config param ici_data_parallelism: 1\n",
            "Config param ici_expert_parallelism: 1\n",
            "Config param ici_fsdp_parallelism: -1\n",
            "Config param ici_fsdp_transpose_parallelism: 1\n",
            "Config param ici_parallelism: [1, 1, -1, 1, 1, 1, 1, 1, 1, 1, 1, 1]\n",
            "Config param ici_pipeline_parallelism: 1\n",
            "Config param ici_sequence_parallelism: 1\n",
            "Config param ici_tensor_parallelism: 1\n",
            "Config param ici_tensor_sequence_parallelism: 1\n",
            "Config param ici_tensor_transpose_parallelism: 1\n",
            "Config param image_path: \n",
            "Config param image_placeholder: <|image|>\n",
            "Config param image_size_for_vit: 896\n",
            "Config param inference_benchmark_test: False\n",
            "Config param inference_metadata_file: \n",
            "Config param inference_microbenchmark_log_file_path: \n",
            "Config param inference_microbenchmark_loop_iters: 10\n",
            "Config param inference_microbenchmark_num_samples: [1, 2, 3, 4, 5]\n",
            "Config param inference_microbenchmark_prefill_lengths: 64,128,256,512,1024\n",
            "Config param inference_microbenchmark_stages: prefill,generate\n",
            "Config param inference_server: MaxtextInterleavedServer\n",
            "Config param inhomogeneous_layer_cycle_interval: 1\n",
            "Config param init_weights_seed: 0\n",
            "Config param input_data_sharding_logical_axes: ['activation_embed_and_logits_batch', 'activation_norm_length']\n",
            "Config param interleave_moe_layer_step: 1\n",
            "Config param intermediate_size_for_vit: 5632\n",
            "Config param jax_cache_dir: ~/jax_cache\n",
            "Config param jax_debug_log_modules: \n",
            "Config param jax_distributed_initialization_timeout: 300\n",
            "Config param jax_profiler_port: 9999\n",
            "Config param key_proj: remat\n",
            "Config param kv_lora_rank: 512\n",
            "Config param kv_quant_axis: heads_and_dkv\n",
            "Config param kv_quant_dtype: int8\n",
            "Config param learning_rate: 3e-05\n",
            "Config param learning_rate_schedule_steps: 10\n",
            "Config param load_balance_loss_weight: 0.01\n",
            "Config param load_from_prefill_dir: False\n",
            "Config param load_full_state_path: \n",
            "Config param load_parameters_path: \n",
            "Config param local_checkpoint_directory: \n",
            "Config param local_checkpoint_period: 0\n",
            "Config param local_rope_max_timescale: -1\n",
            "Config param log_config: True\n",
            "Config param log_period: 100\n",
            "Config param logical_axis_rules: (('activation_batch', ('data', 'fsdp', 'fsdp_transpose', 'expert')), ('activation_batch_no_exp', ('data', 'fsdp', 'fsdp_transpose')), ('activation_embed_and_logits_batch', ('data', 'stage', 'fsdp', 'fsdp_transpose', 'expert')), ('activation_heads', ('tensor', 'tensor_transpose', 'sequence', 'tensor_sequence', 'autoregressive')), ('activation_kv_heads', ('tensor', 'tensor_transpose', 'sequence', 'tensor_sequence')), ('activation_length', ('sequence', 'context')), ('prefill_activation_length', ('sequence', 'context')), ('activation_length', ('context',)), ('activation_norm_length', ('tensor_sequence', 'context', 'sequence')), ('prefill_activation_norm_length', ('tensor_sequence', 'context', 'sequence')), ('activation_q_length', ('context',)), ('activation_kv_length', ()), ('activation_embed', ('tensor', 'tensor_transpose')), ('activation_mlp', ('tensor', 'tensor_transpose', 'tensor_sequence')), ('activation_kv', ('tensor', 'tensor_transpose', 'tensor_sequence')), ('activation_prefill_kv_batch', ('data', 'fsdp', 'fsdp_transpose', 'expert')), ('activation_kv_batch', ('data', 'fsdp', 'fsdp_transpose', 'expert')), ('activation_kv_head_dim', ('tensor', 'tensor_transpose', 'tensor_sequence')), ('activation_vocab', ('tensor', 'tensor_transpose', 'sequence', 'tensor_sequence')), ('activation_vocab', ('tensor', 'tensor_transpose')), ('activation_vocab', 'tensor_sequence'), ('activation_vocab', ('sequence', 'context')), ('activation_stage', 'stage'), ('activation_exp', ('expert',)), ('decode_batch', ('data', 'fsdp', 'fsdp_transpose', 'expert')), ('decode_length', ('sequence',)), ('mlp', ('fsdp_transpose', 'tensor', 'tensor_sequence', 'autoregressive')), ('vocab', ('tensor', 'tensor_transpose', 'tensor_sequence', 'autoregressive')), ('heads', ('tensor', 'tensor_transpose', 'tensor_sequence', 'autoregressive')), ('q_heads', ('tensor', 'tensor_transpose', 'tensor_sequence', 'autoregressive')), ('kv_heads', ('tensor', 'tensor_transpose', 'tensor_sequence', 'autoregressive')), ('embed', ('fsdp', 'fsdp_transpose', 'sequence', 'tensor_transpose', 'context', 'expert')), ('embed', ('fsdp', 'sequence', 'tensor_transpose', 'context', 'expert')), ('embed', ('fsdp', 'fsdp_transpose', 'sequence', 'context', 'expert')), ('embed', ('fsdp', 'sequence', 'context', 'expert')), ('embed_no_exp', ('fsdp', 'fsdp_transpose', 'sequence', 'tensor_transpose', 'context')), ('embed_no_exp', ('fsdp', 'sequence', 'tensor_transpose', 'context')), ('embed_no_exp', ('fsdp', 'fsdp_transpose', 'sequence', 'context')), ('embed_no_exp', ('fsdp', 'sequence', 'context')), ('q_lora', ('fsdp', 'fsdp_transpose', 'sequence', 'context', 'tensor_transpose', 'expert')), ('q_lora', ('fsdp', 'sequence', 'context', 'tensor_transpose', 'expert')), ('q_lora', ('fsdp', 'fsdp_transpose', 'sequence', 'context', 'expert')), ('q_lora', ('fsdp', 'sequence', 'context', 'expert')), ('kv_lora', ('fsdp', 'fsdp_transpose', 'sequence', 'context', 'tensor_transpose', 'expert')), ('kv_lora', ('fsdp', 'sequence', 'context', 'tensor_transpose', 'expert')), ('kv_lora', ('fsdp', 'fsdp_transpose', 'sequence', 'context', 'expert')), ('kv_lora', ('fsdp', 'sequence', 'context', 'expert')), ('norm', ('tensor', 'tensor_transpose', 'tensor_sequence')), ('layers', 'stage'), ('kv', ()), ('kv_head_dim', ()), ('cache_batch_prefill', ()), ('cache_batch', ()), ('cache_heads_none', ()), ('cache_heads', ('autoregressive', 'tensor', 'tensor_transpose', 'tensor_sequence')), ('cache_heads', ('autoregressive', 'tensor', 'tensor_sequence')), ('cache_kv', ()), ('cache_sequence', ()), ('exp', 'expert'), ('paged_kv_heads', ('tensor',)), ('num_pages', ()), ('tokens_per_page', ()), ('paged_kv_head_dim_size', ()))\n",
            "Config param logits_dot_in_fp32: False\n",
            "Config param logits_via_embedding: True\n",
            "Config param lora_input_adapters_path: \n",
            "Config param matmul_precision: default\n",
            "Config param max_checkify: False\n",
            "Config param max_corpus_chars: 10000000\n",
            "Config param max_position_embeddings: 163840\n",
            "Config param max_prefill_predict_length: 64\n",
            "Config param max_target_length: 8192\n",
            "Config param megablox: True\n",
            "Config param mesh_axes: ['data', 'stage', 'fsdp', 'fsdp_transpose', 'sequence', 'context', 'context_autoregressive', 'tensor', 'tensor_transpose', 'tensor_sequence', 'expert', 'autoregressive']\n",
            "Config param metrics_dir: gs://dummy_output_dir/test-tunix-maxtext-gemma-2b/metrics/\n",
            "Config param metrics_file: \n",
            "Config param micro_batch_size_to_eval_on: 1\n",
            "Config param micro_batch_size_to_train_on: 1\n",
            "Config param mla_naive_kvcache: True\n",
            "Config param mlp_activations: ['gelu', 'linear']\n",
            "Config param mlp_dim: 16384\n",
            "Config param mlpwi: remat\n",
            "Config param mlpwi_0: remat\n",
            "Config param mlpwi_1: remat\n",
            "Config param mlpwo: remat\n",
            "Config param model_call_mode: \n",
            "Config param model_fsdp_ag_once: False\n",
            "Config param model_name: gemma-2b\n",
            "Config param moe_mlp_dim: 7168\n"
          ]
        },
        {
          "name": "stdout",
          "output_type": "stream",
          "text": [
            "Config param monitor_goodput: False\n",
            "Config param monitor_step_time_deviation: True\n",
            "Config param mscale: 1.0\n",
            "Config param mtp_eval_target_module: 0\n",
            "Config param mtp_loss_scaling_factor: 0.1\n",
            "Config param mtp_num_layers: 0\n",
            "Config param mu_dtype: float32\n",
            "Config param multi_sampling: False\n",
            "Config param n_routing_groups: -1\n",
            "Config param nope_layer_interval: -1\n",
            "Config param normalization_layer_epsilon: 1e-06\n",
            "Config param normalize_embedding_logits: True\n",
            "Config param num_attention_heads_for_vit: 16\n",
            "Config param num_channels_for_vit: 3\n",
            "Config param num_decoder_layers: 18\n",
            "Config param num_epoch: 1\n",
            "Config param num_experts: 1\n",
            "Config param num_experts_per_tok: 1\n",
            "Config param num_hidden_layers_for_vit: 34\n",
            "Config param num_kv_heads: 1\n",
            "Config param num_layers_per_pipeline_stage: 1\n",
            "Config param num_pipeline_microbatches: -1\n",
            "Config param num_pipeline_repeats: -1\n",
            "Config param num_query_heads: 8\n",
            "Config param num_slices: 1\n",
            "Config param opt_type: adamw\n",
            "Config param optimize_mesh_for_tpu_v6e: False\n",
            "Config param optimizer_memory_host_offload: False\n",
            "Config param original_max_position_embeddings: 4096\n",
            "Config param out_proj: remat\n",
            "Config param override_model_config: False\n",
            "Config param packing: True\n",
            "Config param pagedattn_head_dim_alignment: 128\n",
            "Config param pagedattn_max_pages_per_group: 256\n",
            "Config param pagedattn_num_pages: 64\n",
            "Config param pagedattn_pages_per_compute_block: 4\n",
            "Config param pagedattn_tokens_per_page: 32\n",
            "Config param param_scan_axis: 1\n",
            "Config param parameter_memory_host_offload: False\n",
            "Config param patch_size_for_vit: 14\n",
            "Config param per_device_batch_size: 1.0\n",
            "Config param pipeline_delay_activation_forwarding: False\n",
            "Config param pipeline_fsdp_ag_once: False\n",
            "Config param pipeline_parallel_layers: -1\n",
            "Config param pixel_shuffle_ratio_for_vit: 0.5\n",
            "Config param prefill_cache_axis_order: 1,2,0,3\n",
            "Config param prefill_cache_dir: \n",
            "Config param prefill_chunk_size: 256\n",
            "Config param prefill_slice: v5e-16\n",
            "Config param prefix_caching_dram_byte: 100000000000\n",
            "Config param prefix_caching_hbm_byte: 10000000000\n",
            "Config param profile_cleanly: True\n",
            "Config param profile_periodically_period: -1\n",
            "Config param profiler: \n",
            "Config param profiler_steps: 5\n",
            "Config param projector_dropout_for_vit: 0.0\n",
            "Config param projector_input_dim_for_vit: 4096\n",
            "Config param projector_output_dim_for_vit: 4096\n",
            "Config param prometheus_port: 0\n",
            "Config param prompt: I love to\n",
            "Config param q_lora_rank: 0\n",
            "Config param qk_nope_head_dim: 128\n",
            "Config param qk_rope_head_dim: 64\n",
            "Config param qkv_proj: remat\n",
            "Config param quant_cfg_path: \n",
            "Config param quantization: \n",
            "Config param quantization_local_shard_count: 1\n",
            "Config param quantize_kvcache: False\n",
            "Config param query_proj: remat\n",
            "Config param ragged_block_size: 256\n",
            "Config param record_internal_nn_metrics: 0\n",
            "Config param remat_policy: full\n",
            "Config param remat_policy_for_vit: minimal\n",
            "Config param replicate_quant_scale: False\n",
            "Config param replicator_backup_interval_minutes: 0\n",
            "Config param report_heartbeat_metric_for_gcp_monitoring: False\n",
            "Config param report_performance_metric_for_gcp_monitoring: False\n",
            "Config param reshape_q: False\n",
            "Config param return_log_prob: False\n",
            "Config param reuse_example_batch: 0\n",
            "Config param rope_factor: 40\n",
            "Config param rope_max_timescale: 10000\n",
            "Config param rope_min_timescale: 1\n",
            "Config param rope_theta_for_vit: 10000\n",
            "Config param rope_type: default\n",
            "Config param rope_use_scale: True\n",
            "Config param routed_bias: False\n",
            "Config param routed_scaling_factor: 1.0\n",
            "Config param routed_score_func: \n",
            "Config param run_name: test-tunix-maxtext-gemma-2b\n",
            "Config param sa_block_kv: 512\n",
            "Config param sa_block_kv_compute: 512\n",
            "Config param sa_block_kv_dkv: 512\n",
            "Config param sa_block_kv_dkv_compute: 512\n",
            "Config param sa_block_kv_dq: 512\n",
            "Config param sa_block_q: 512\n",
            "Config param sa_block_q_dkv: 512\n",
            "Config param sa_block_q_dq: 512\n",
            "Config param sa_k_layout: HEAD_DIM_MINOR\n",
            "Config param sa_q_layout: HEAD_DIM_MINOR\n",
            "Config param sa_use_fused_bwd_kernel: False\n",
            "Config param sa_v_layout: HEAD_DIM_MINOR\n",
            "Config param save_config_to_gcs: False\n",
            "Config param save_quantized_params_path: \n",
            "Config param scan_layers: True\n",
            "Config param scan_layers_per_stage: False\n",
            "Config param scan_pipeline_iterations: True\n",
            "Config param set_remat_policy_on_layers_per_stage: False\n",
            "Config param set_remat_policy_on_pipeline_iterations: True\n",
            "Config param sft_train_on_completion_only: False\n",
            "Config param sharding_tolerance: 0.02\n",
            "Config param shared_experts: 1\n",
            "Config param skip_first_n_steps_for_profiler: 1\n",
            "Config param skip_jax_distributed_system: True\n",
            "Config param sliding_window_size: 0\n",
            "Config param sparse_matmul: True\n",
            "Config param stack_prefill_result_cache: False\n",
            "Config param stack_trace_interval_seconds: 600\n",
            "Config param stack_trace_to_cloud: False\n",
            "Config param step_deviation_interval_seconds: 30\n",
            "Config param steps: 10\n",
            "Config param subslice_shape: \n",
            "Config param target_eval_loss: 0.0\n",
            "Config param temperature_tuning: False\n",
            "Config param tensorboard_dir: gs://dummy_output_dir/test-tunix-maxtext-gemma-2b/tensorboard/\n",
            "Config param tile_activation_dim: 1024\n",
            "Config param tile_batch_seq: 512\n",
            "Config param tile_size_for_vit: 336\n",
            "Config param tile_weight_dim: 1024\n",
            "Config param tokenize_eval_data: True\n",
            "Config param tokenize_train_data: True\n",
            "Config param tokenizer_path: ../../maxtext/assets/tokenizer.gemma\n",
            "Config param tokenizer_type: sentencepiece\n",
            "Config param topk_routing_group: -1\n",
            "Config param train_data_columns: ['text']\n",
            "Config param train_image_column: image\n",
            "Config param train_split: train\n",
            "Config param trainable_position_size: -1\n",
            "Config param upload_all_profiler_results: False\n",
            "Config param use_chat_template: False\n",
            "Config param use_chunked_prefill: False\n",
            "Config param use_dpo: False\n",
            "Config param use_iota_embed: False\n",
            "Config param use_multimodal: False\n",
            "Config param use_post_attn_norm: False\n",
            "Config param use_post_ffw_norm: False\n",
            "Config param use_qk_norm: False\n",
            "Config param use_ragged_attention: False\n",
            "Config param use_random_routing: False\n",
            "Config param use_replicator_service: False\n",
            "Config param use_sft: False\n",
            "Config param use_untrainable_positional_embedding: False\n",
            "Config param use_vertex_tensorboard: False\n",
            "Config param using_pipeline_parallelism: False\n",
            "Config param v_head_dim: 128\n",
            "Config param value_proj: remat\n",
            "Config param vertex_tensorboard_project: \n",
            "Config param vertex_tensorboard_region: \n",
            "Config param vision_output_dim_for_vit: 4096\n",
            "Config param vocab_size: 256128\n",
            "Config param warmup_steps_fraction: 0.1\n",
            "Config param weight_dtype: float32\n",
            "Num_devices: 1, shape (1, 1, 1, 1, 1, 1, 1, 1, 1, 1, 1, 1)\n"
          ]
        },
        {
          "name": "stderr",
          "output_type": "stream",
          "text": [
            "/home/mazumdera_google_com/venv-py311/lib/python3.11/site-packages/treescope/renderers.py:251: UserWarning: Ignoring error inside wrapper hook <function replace_with_canonical_aliases at 0x7b1049768180>:\n",
            "Traceback (most recent call last):\n",
            "  File \"/home/mazumdera_google_com/venv-py311/lib/python3.11/site-packages/treescope/renderers.py\", line 225, in _render_subtree\n",
            "    postprocessed_result = hook(\n",
            "                           ^^^^^\n",
            "  File \"/home/mazumdera_google_com/venv-py311/lib/python3.11/site-packages/treescope/_internal/handlers/canonical_alias_postprocessor.py\", line 78, in replace_with_canonical_aliases\n",
            "    maybe_alias = canonical_aliases.lookup_alias(\n",
            "                  ^^^^^^^^^^^^^^^^^^^^^^^^^^^^^^^\n",
            "  File \"/home/mazumdera_google_com/venv-py311/lib/python3.11/site-packages/treescope/canonical_aliases.py\", line 317, in lookup_alias\n",
            "    unwrapped = inspect.unwrap(the_object)\n",
            "                ^^^^^^^^^^^^^^^^^^^^^^^^^^\n",
            "  File \"/usr/lib/python3.11/inspect.py\", line 756, in unwrap\n",
            "    while not isinstance(func, type) and hasattr(func, '__wrapped__'):\n",
            "                                         ^^^^^^^^^^^^^^^^^^^^^^^^^^^^\n",
            "  File \"/home/mazumdera_google_com/maxtext/MaxText/pyconfig.py\", line 1108, in __getattr__\n",
            "    return object.__getattribute__(self, \"_config\").keys[attr]\n",
            "           ~~~~~~~~~~~~~~~~~~~~~~~~~~~~~~~~~~~~~~~~~~~~~^^^^^^\n",
            "KeyError: '__wrapped__'\n",
            "\n",
            "  warnings.warn(\n"
          ]
        },
        {
          "data": {
            "text/html": [
              "<script> (()=>{ if (customElements.get('treescope-container') === undefined) { class TreescopeContainer extends HTMLElement { constructor() { super(); this.attachShadow({mode: \"open\"}); this.defns = {}; this.state = {}; } } customElements.define(\"treescope-container\", TreescopeContainer); } if (customElements.get('treescope-run-here') === undefined) { class RunHere extends HTMLElement { constructor() { super() } connectedCallback() { const run = child => { const fn = new Function(child.textContent); child.textContent = \"\"; fn.call(this); this.remove(); }; const child = this.querySelector(\"script\"); if (child) { run(child); } else { new MutationObserver(()=>{ run(this.querySelector(\"script\")); }).observe(this, {childList: true}); } } } customElements.define(\"treescope-run-here\", RunHere); } })(); </script> <treescope-container class=\"treescope_out_841d748245b14763af696e514700bcd3\" style=\"display:block\"></treescope-container> <treescope-run-here><script type=\"application/octet-stream\"> const root = ( Array.from(document.getElementsByClassName( \"treescope_out_841d748245b14763af696e514700bcd3\")) .filter((elt) => !elt.dataset.setup) )[0]; root.dataset.setup = 1; const msg = document.createElement(\"span\"); msg.style = \"color: #cccccc; font-family: monospace;\"; msg.textContent = \"(Loading...)\"; root.state.loadingMsg = msg; root.shadowRoot.appendChild(msg); root.state.chain = new Promise((resolve, reject) => { const observer = new IntersectionObserver((entries) => { for (const entry of entries) { if (entry.isIntersecting) { resolve(); observer.disconnect(); return; } } }, {rootMargin: \"1000px\"}); window.setTimeout(() => { observer.observe(root); }, 0); }); root.state.deferring = false; const _insertNode = (node) => { for (let oldScript of node.querySelectorAll(\"script\")) { let newScript = document.createElement(\"script\"); newScript.type = oldScript.type; newScript.textContent = oldScript.textContent; oldScript.parentNode.replaceChild(newScript, oldScript); } if (root.state.loadingMsg) { root.state.loadingMsg.remove(); root.state.loadingMsg = null; } root.shadowRoot.appendChild(node); }; root.defns.insertContent = ((contentNode, compressed) => { if (compressed) { root.state.deferring = true; } if (root.state.deferring) { root.state.chain = (async () => { await root.state.chain; if (compressed) { const encoded = contentNode.textContent; const blob = new Blob([ Uint8Array.from(atob(encoded), (m) => m.codePointAt(0)) ]); const reader = blob.stream().pipeThrough( new DecompressionStream(\"deflate\") ).pipeThrough( new TextDecoderStream(\"utf-8\") ).getReader(); const parts = []; while (true) { const step = await reader.read(); if (step.done) { break; } parts.push(step.value); } const tpl = document.createElement('template'); tpl.innerHTML = parts.join(\"\"); _insertNode(tpl.content); } else { _insertNode(contentNode.content); } })(); } else { _insertNode(contentNode.content); } }); </script></treescope-run-here><div style=\"display:none\"> <script type=\"application/octet-stream\" >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</script> <treescope-run-here><script type=\"application/octet-stream\"> const root = ( Array.from(document.getElementsByClassName( \"treescope_out_841d748245b14763af696e514700bcd3\")) .filter((elt) => !elt.dataset['step0']) )[0]; root.dataset['step0'] = 1; root.defns.insertContent( this.parentNode.querySelector('script[type=\"application/octet-stream\"]'), true ); this.parentNode.remove(); </script></treescope-run-here> </div>"
            ],
            "text/plain": [
              "<IPython.core.display.HTML object>"
            ]
          },
          "metadata": {},
          "output_type": "display_data"
        },
        {
          "data": {
            "text/html": [
              "<div style=\"display:none\"> <script type=\"application/octet-stream\" >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</script> <treescope-run-here><script type=\"application/octet-stream\"> const root = ( Array.from(document.getElementsByClassName( \"treescope_out_841d748245b14763af696e514700bcd3\")) .filter((elt) => !elt.dataset['step1']) )[0]; root.dataset['step1'] = 1; root.defns.insertContent( this.parentNode.querySelector('script[type=\"application/octet-stream\"]'), true ); this.parentNode.remove(); </script></treescope-run-here> </div>"
            ],
            "text/plain": [
              "<IPython.core.display.HTML object>"
            ]
          },
          "metadata": {},
          "output_type": "display_data"
        },
        {
          "name": "stdout",
          "output_type": "stream",
          "text": [
            "Model initialized successfully\n",
            "Model mesh shape: OrderedDict([('data', 1), ('stage', 1), ('fsdp', 1), ('fsdp_transpose', 1), ('sequence', 1), ('context', 1), ('context_autoregressive', 1), ('tensor', 1), ('tensor_transpose', 1), ('tensor_sequence', 1), ('expert', 1), ('autoregressive', 1)])\n",
            "Model config: TransformerConfig(num_layers=26, num_embed=256128, embed_dim=2304, hidden_dim=9216, num_heads=8, head_dim=256, num_kv_heads=4, final_logit_softcap=30.0, use_post_attn_norm=True, use_post_ffw_norm=True, attention_types=(<AttentionType.LOCAL_SLIDING: 2>, <AttentionType.GLOBAL: 1>, <AttentionType.LOCAL_SLIDING: 2>, <AttentionType.GLOBAL: 1>, <AttentionType.LOCAL_SLIDING: 2>, <AttentionType.GLOBAL: 1>, <AttentionType.LOCAL_SLIDING: 2>, <AttentionType.GLOBAL: 1>, <AttentionType.LOCAL_SLIDING: 2>, <AttentionType.GLOBAL: 1>, <AttentionType.LOCAL_SLIDING: 2>, <AttentionType.GLOBAL: 1>, <AttentionType.LOCAL_SLIDING: 2>, <AttentionType.GLOBAL: 1>, <AttentionType.LOCAL_SLIDING: 2>, <AttentionType.GLOBAL: 1>, <AttentionType.LOCAL_SLIDING: 2>, <AttentionType.GLOBAL: 1>, <AttentionType.LOCAL_SLIDING: 2>, <AttentionType.GLOBAL: 1>, <AttentionType.LOCAL_SLIDING: 2>, <AttentionType.GLOBAL: 1>, <AttentionType.LOCAL_SLIDING: 2>, <AttentionType.GLOBAL: 1>, <AttentionType.LOCAL_SLIDING: 2>, <AttentionType.GLOBAL: 1>), attn_logits_soft_cap=50.0, sliding_window_size=4096, shd_config=ShardingConfig(emb_vd=('tp', 'fsdp'), q_weight_ndh=('tp', 'fsdp', None), kv_weight_cndh=(None, 'tp', 'fsdp', None), qkv_weight_cndh=(None, 'tp', 'fsdp', None), o_weight_nhd=('tp', None, 'fsdp'), ffw_weight_df=('fsdp', 'tp'), ffw_weight_fd=('tp', 'fsdp'), rms_norm_weight=('tp',), act_btd=('fsdp', None, 'tp'), act_btf=('fsdp', None, 'tp'), act_btnh=('fsdp', None, 'tp', None)))\n"
          ]
        }
      ],
      "source": [
        "\n",
        "# # Policy model\n",
        "# lora_gemma = get_lora_model(gemma, mesh=mesh)\n",
        "# nnx.display(lora_gemma)\n",
        "\n",
        "\n",
        "# Policy model\n",
        "# This can remain unchanged from default Tunix's colab\n",
        "# lora_gemma = get_lora_model(gemma, mesh=mesh)\n",
        "\n",
        "# TODO: @mazumdera: change this to use lora\n",
        "# lora_gemma = get_lora_model(gemma, mesh=mesh)\n",
        "# nnx.display(lora_gemma)\n",
        "\n",
        "gemma_policy, mesh_policy, model_config_policy = get_ref_maxtext_model()\n",
        "\n",
        "# gemma_maxtext_nnx = nnx.bridge.ToNNX(gemma)\n",
        "# Instead of:\n",
        "nnx.display(gemma_policy)\n",
        "\n",
        "# Use:\n",
        "print(\"Model initialized successfully\")\n",
        "print(f\"Model mesh shape: {mesh_policy.shape}\")\n",
        "print(f\"Model config: {model_config_policy}\")"
      ]
    },
    {
      "cell_type": "markdown",
      "id": "zLzR1tJfTn1k",
      "metadata": {},
      "source": [
        "## Define reward functions\n",
        "\n",
        "We define four reward functions:\n",
        "\n",
        "- reward if the format of the output exactly matches the instruction given in\n",
        "`TEMPLATE`;\n",
        "- reward if the format of the output approximately matches the instruction given\n",
        "in `TEMPLATE`;\n",
        "- reward if the answer is correct/partially correct;\n",
        "- Sometimes, the text between `<answer>`, `</answer>` might not be one\n",
        "  number. So, extract the number, and reward the model if the answer is correct.\n",
        "\n",
        "The reward functions are inspired from\n",
        "[here](https://gist.github.com/willccbb/4676755236bb08cab5f4e54a0475d6fb).\n",
        "\n",
        "First off, let's define a RegEx for checking whether the format matches."
      ]
    },
    {
      "cell_type": "code",
      "execution_count": null,
      "id": "C7Beft8wTn1k",
      "metadata": {},
      "outputs": [
        {
          "data": {
            "text/plain": [
              "<re.Match object; span=(0, 54), match='<reasoning>Let me think!</reasoning><answer>2</an>"
            ]
          },
          "execution_count": 28,
          "metadata": {},
          "output_type": "execute_result"
        }
      ],
      "source": [
        "match_format = re.compile(\n",
        "    rf\"^[\\s]{{0,}}\"\n",
        "    rf\"{reasoning_start}.+?{reasoning_end}.*?\"\n",
        "    rf\"{solution_start}(.+?){solution_end}\"\n",
        "    rf\"[\\s]{{0,}}$\",\n",
        "    flags=re.MULTILINE | re.DOTALL,\n",
        ")\n",
        "\n",
        "match_format.search(\n",
        "    f\"{reasoning_start}Let me\"\n",
        "    f\" think!{reasoning_end}{solution_start}2{solution_end}\",\n",
        ")"
      ]
    },
    {
      "cell_type": "markdown",
      "id": "Fe1rF15zTn1k",
      "metadata": {},
      "source": [
        "Give the model a reward of 3 points if the format matches exactly."
      ]
    },
    {
      "cell_type": "code",
      "execution_count": null,
      "id": "_fhQ6pY2Tn1k",
      "metadata": {},
      "outputs": [],
      "source": [
        "def match_format_exactly(prompts, completions, **kargs):\n",
        "  scores = []\n",
        "  for completion in completions:\n",
        "    score = 0\n",
        "    response = completion\n",
        "    # Match if format is seen exactly!\n",
        "    if match_format.search(response) is not None:\n",
        "      score += 3.0\n",
        "    scores.append(score)\n",
        "  return scores"
      ]
    },
    {
      "cell_type": "markdown",
      "id": "sWdAdUHuTn1k",
      "metadata": {},
      "source": [
        "We also reward the model if the format of the output matches partially."
      ]
    },
    {
      "cell_type": "code",
      "execution_count": null,
      "id": "uOhO4f3-Tn1k",
      "metadata": {},
      "outputs": [],
      "source": [
        "def match_format_approximately(prompts, completions, **kargs):\n",
        "  scores = []\n",
        "\n",
        "  for completion in completions:\n",
        "    score = 0\n",
        "    response = completion\n",
        "    # Count how many keywords are seen - we penalize if too many!\n",
        "    # If we see 1, then plus some points!\n",
        "    score += 0.5 if response.count(reasoning_start) == 1 else -0.5\n",
        "    score += 0.5 if response.count(reasoning_end) == 1 else -0.5\n",
        "    score += 0.5 if response.count(solution_start) == 1 else -0.5\n",
        "    score += 0.5 if response.count(solution_end) == 1 else -0.5\n",
        "    scores.append(score)\n",
        "  return scores"
      ]
    },
    {
      "cell_type": "markdown",
      "id": "A2fNZDgTTn1k",
      "metadata": {},
      "source": [
        "Reward the model if the answer is correct. A reward is also given if the answer\n",
        "does not match exactly, i.e., based on how close the answer is to the correct\n",
        "value."
      ]
    },
    {
      "cell_type": "code",
      "execution_count": null,
      "id": "S8zcWsmhTn1k",
      "metadata": {},
      "outputs": [],
      "source": [
        "def check_answer(prompts, completions, answer, **kargs):\n",
        "  responses = completions\n",
        "\n",
        "  extracted_responses = [\n",
        "      guess.group(1) if (guess := match_format.search(r)) is not None else None\n",
        "      for r in responses\n",
        "  ]\n",
        "\n",
        "  scores = []\n",
        "  for guess, true_answer in zip(extracted_responses, answer):\n",
        "    score = 0\n",
        "    if guess is None:\n",
        "      scores.append(0)\n",
        "      continue\n",
        "    # Correct answer gets 3 points!\n",
        "    if guess == true_answer:\n",
        "      score += 3.0\n",
        "    # Match if spaces are seen\n",
        "    elif guess.strip() == true_answer.strip():\n",
        "      score += 1.5\n",
        "    else:\n",
        "      # We also reward it if the answer is close via ratios!\n",
        "      # Ie if the answer is within some range, reward it!\n",
        "      try:\n",
        "        ratio = float(guess) / float(true_answer)\n",
        "        if ratio >= 0.9 and ratio <= 1.1:\n",
        "          score += 0.5\n",
        "        elif ratio >= 0.8 and ratio <= 1.2:\n",
        "          score += 0.25\n",
        "        else:\n",
        "          score -= 1.0  # Penalize wrong answers\n",
        "      except:\n",
        "        score -= 0.5  # Penalize\n",
        "    scores.append(score)\n",
        "  return scores"
      ]
    },
    {
      "cell_type": "markdown",
      "id": "nIpOVv78Tn1k",
      "metadata": {},
      "source": [
        "Sometimes, the text between `<answer>` and `</answer>` might not be one\n",
        "number; it can be a sentence. So, we extract the number and compare the answer."
      ]
    },
    {
      "cell_type": "code",
      "execution_count": null,
      "id": "NXvRtbk8Tn1k",
      "metadata": {},
      "outputs": [
        {
          "data": {
            "text/plain": [
              "['0.34']"
            ]
          },
          "execution_count": 32,
          "metadata": {},
          "output_type": "execute_result"
        }
      ],
      "source": [
        "match_numbers = re.compile(\n",
        "    rf\"{solution_start}.*?([\\d\\.]{{1,}})\", flags=re.MULTILINE | re.DOTALL\n",
        ")\n",
        "match_numbers.findall(f\"{solution_start}  0.34  {solution_end}\")"
      ]
    },
    {
      "cell_type": "code",
      "execution_count": null,
      "id": "oxZQAFKOTn1k",
      "metadata": {},
      "outputs": [],
      "source": [
        "def check_numbers(prompts, completions, answer, **kargs):\n",
        "  question = kargs[\"question\"]\n",
        "  responses = completions\n",
        "\n",
        "  extracted_responses = [\n",
        "      guess.group(1) if (guess := match_numbers.search(r)) is not None else None\n",
        "      for r in responses\n",
        "  ]\n",
        "\n",
        "  scores = []\n",
        "  print(\"START ============================\")\n",
        "  print(f\"Question: {question[0]}\")\n",
        "  print(f\"Answer: {answer[0]}\")\n",
        "  print(f\"Response: {responses[0]}\")\n",
        "  print(f\"Extracted: {extracted_responses[0]}\")\n",
        "  print(\"END ==============================\")\n",
        "  for guess, true_answer in zip(extracted_responses, answer):\n",
        "    if guess is None:\n",
        "      scores.append(0)\n",
        "      continue\n",
        "    # Convert to numbers\n",
        "    try:\n",
        "      true_answer = float(true_answer.strip())\n",
        "      guess = float(guess.strip())\n",
        "      scores.append(1.5 if guess == true_answer else 0.0)\n",
        "    except:\n",
        "      scores.append(0)\n",
        "      continue\n",
        "  return scores"
      ]
    },
    {
      "cell_type": "markdown",
      "id": "AaiYMJxFTn1k",
      "metadata": {},
      "source": [
        "## Evaluate\n",
        "\n",
        "\n",
        "Before we train the model, let's evaluate the model on the test set so we can\n",
        "see the improvement post training.\n",
        "\n",
        "We evaluate it in two ways:\n",
        "\n",
        "**Quantitative**\n",
        "\n",
        "* **Answer Accuracy**: percentage of samples for which the model predicts the\n",
        "correct final numerical answer  \n",
        "* **Answer (Partial) Accuracy**: percentage of samples for which the model\n",
        "predicts a final numerical answer such that the \\`model answer / answer\\`\n",
        "ratio lies between 0.9 and 1.1.  \n",
        "* **Format Accuracy**: percentage of samples for which the model outputs the\n",
        "correct format, i.e., reasoning between the reasoning special tokens, and the\n",
        "final answer between the \\`\\<start\\_answer\\>\\`, \\`\\<end\\_answer\\>\\` tokens.\n",
        "\n",
        "**Qualitative**\n",
        "\n",
        "We'll also print outputs for a few given questions so that we can compare the generated output later.\n"
      ]
    },
    {
      "cell_type": "code",
      "execution_count": null,
      "id": "_k58bOicUHJy",
      "metadata": {},
      "outputs": [],
      "source": [
        "def generate(\n",
        "    question, sampler, temperature=0.7, top_k=50, top_p=0.95, seed=None\n",
        "):\n",
        "  \"\"\"Given prompt, generates text.\"\"\"\n",
        "\n",
        "  if isinstance(question, str):\n",
        "    input_batch = [\n",
        "        TEMPLATE.format(\n",
        "            system_prompt=SYSTEM_PROMPT,\n",
        "            question=question,\n",
        "        ),\n",
        "    ]\n",
        "  else:\n",
        "    input_batch = [\n",
        "        TEMPLATE.format(\n",
        "            system_prompt=SYSTEM_PROMPT,\n",
        "            question=q,\n",
        "        )\n",
        "        for q in question\n",
        "    ]\n",
        "\n",
        "  out_data = sampler(\n",
        "      input_strings=input_batch,\n",
        "      total_generation_steps=768,\n",
        "      temperature=temperature,\n",
        "      top_k=top_k,\n",
        "      top_p=top_p,\n",
        "      echo=False,\n",
        "      seed=seed if seed is not None else None,\n",
        "  )\n",
        "\n",
        "  output = out_data.text\n",
        "  if isinstance(question, str):\n",
        "    return output[0]\n",
        "  return output"
      ]
    },
    {
      "cell_type": "code",
      "execution_count": null,
      "id": "yJo2nuKB-wlw",
      "metadata": {},
      "outputs": [],
      "source": [
        "def evaluate(\n",
        "    dataset,\n",
        "    sampler,\n",
        "    temperature=0.7,\n",
        "    top_k=50,\n",
        "    top_p=0.95,\n",
        "    num_passes=1,\n",
        "    corr_lst=False,\n",
        "    make_lst=False,\n",
        "):\n",
        "  \"\"\"Computes accuracy and percentage of outputs matching the format.\"\"\"\n",
        "\n",
        "  response_lst = []\n",
        "  corr = 0\n",
        "  partially_corr = 0\n",
        "  corr_format = 0\n",
        "  total = 0\n",
        "\n",
        "  for batch in tqdm(dataset):\n",
        "    answers = batch[\"answer\"]\n",
        "    questions = batch[\"question\"]\n",
        "\n",
        "    multiple_call_responses = [[] for _ in range(len(questions))]\n",
        "    for p in range(num_passes):\n",
        "      responses = generate(\n",
        "          questions, sampler, temperature, top_k, top_p, seed=p\n",
        "      )\n",
        "      for idx, response in enumerate(responses):\n",
        "        multiple_call_responses[idx].append(response)\n",
        "\n",
        "    for question, multiple_call_response, answer in zip(\n",
        "        questions, multiple_call_responses, answers\n",
        "    ):\n",
        "      # check answer\n",
        "      corr_ctr_per_question = 0\n",
        "      partially_corr_per_question = 0\n",
        "      corr_format_per_question = 0\n",
        "      for response in multiple_call_response:\n",
        "        extracted_response = (\n",
        "            guess.group(1)\n",
        "            if (guess := match_numbers.search(response)) is not None\n",
        "            else \"-1000000\"\n",
        "        )\n",
        "        try:\n",
        "          if float(extracted_response.strip()) == float(answer.strip()):\n",
        "            corr_ctr_per_question += 1\n",
        "\n",
        "          ratio = float(extracted_response.strip()) / float(answer.strip())\n",
        "          if ratio >= 0.9 and ratio <= 1.1:\n",
        "            partially_corr_per_question += 1\n",
        "        except:\n",
        "          print(\"SKIPPED\")\n",
        "\n",
        "        # check format\n",
        "        if match_format.search(response) is not None:\n",
        "          corr_format_per_question += 1\n",
        "\n",
        "        if (\n",
        "            corr_ctr_per_question > 0\n",
        "            and partially_corr_per_question > 0\n",
        "            and corr_format_per_question > 0\n",
        "        ):\n",
        "          break\n",
        "\n",
        "      if corr_ctr_per_question > 0:\n",
        "        corr += 1\n",
        "        if corr_lst and make_lst:\n",
        "          response_lst.append((question, answer, multiple_call_response))\n",
        "      else:\n",
        "        if not corr_lst and make_lst:\n",
        "          response_lst.append((question, answer, multiple_call_response))\n",
        "      if partially_corr_per_question > 0:\n",
        "        partially_corr += 1\n",
        "      if corr_format_per_question > 0:\n",
        "        corr_format += 1\n",
        "\n",
        "      total += 1\n",
        "      if total % 10 == 0:\n",
        "        print(\n",
        "            f\"===> {corr=}, {total=}, {corr / total * 100=}, \"\n",
        "            f\"{partially_corr / total * 100=}, {corr_format / total * 100=}\"\n",
        "        )\n",
        "\n",
        "  to_return = (\n",
        "      corr,\n",
        "      total,\n",
        "      corr / total * 100,\n",
        "      partially_corr / total * 100,\n",
        "      corr_format / total * 100,\n",
        "  )\n",
        "  if make_lst:\n",
        "    return to_return, response_lst\n",
        "  return to_return"
      ]
    },
    {
      "cell_type": "code",
      "execution_count": null,
      "id": "HZMO-KflTn1k",
      "metadata": {},
      "outputs": [],
      "source": [
        "gemma_tokenizer = data_lib.GemmaTokenizer()\n",
        "sampler = sampler_lib.Sampler(\n",
        "    # transformer=lora_gemma,\n",
        "    transformer=gemma_policy,\n",
        "    tokenizer=gemma_tokenizer,\n",
        "    cache_config=sampler_lib.CacheConfig(\n",
        "        cache_size=MAX_PROMPT_LENGTH + TOTAL_GENERATION_STEPS + 256,\n",
        "        num_layers=model_config.num_layers,\n",
        "        num_kv_heads=model_config.num_kv_heads,\n",
        "        head_dim=model_config.head_dim,\n",
        "    ),\n",
        ")"
      ]
    },
    {
      "cell_type": "code",
      "execution_count": null,
      "id": "YQM-tzXWUmoE",
      "metadata": {},
      "outputs": [
        {
          "data": {
            "application/vnd.jupyter.widget-view+json": {
              "model_id": "be718e405b1642658b46c285ec592aa8",
              "version_major": 2,
              "version_minor": 0
            },
            "text/plain": [
              "  0%|          | 0/100 [00:00<?, ?it/s]"
            ]
          },
          "metadata": {},
          "output_type": "display_data"
        },
        {
          "name": "stdout",
          "output_type": "stream",
          "text": [
            "SKIPPED\n",
            "===> corr=0, total=10, corr / total * 100=0.0, partially_corr / total * 100=0.0, corr_format / total * 100=0.0\n",
            "===> corr=0, total=20, corr / total * 100=0.0, partially_corr / total * 100=0.0, corr_format / total * 100=0.0\n"
          ]
        }
      ],
      "source": [
        "(corr, total, accuracy, partial_accuracy, format_accuracy) = evaluate(\n",
        "    test_dataset,\n",
        "    sampler,\n",
        "    **GENERATION_CONFIGS[\"greedy\"],\n",
        ")\n",
        "print(\n",
        "    f\"{corr=}, {total=}, {accuracy=}%, {partial_accuracy=}%,\"\n",
        "    f\" {format_accuracy=}%\"\n",
        ")"
      ]
    },
    {
      "cell_type": "code",
      "execution_count": null,
      "id": "PJV6wNGY-3PG",
      "metadata": {},
      "outputs": [],
      "source": [
        "# for eval_example in QUALITATIVE_EVAL_EXAMPLES:\n",
        "#   question = eval_example[\"question\"]\n",
        "#   answer = eval_example[\"answer\"]\n",
        "#   response = generate(\n",
        "#       question,\n",
        "#       sampler,\n",
        "#       temperature=INFERENCE_TEMPERATURE,\n",
        "#       top_k=INFERENCE_TOP_K,\n",
        "#       top_p=INFERENCE_TOP_P,\n",
        "#   )\n",
        "\n",
        "#   print(f\"Question:\\n{question}\")\n",
        "#   print(f\"Answer:\\n{answer}\")\n",
        "#   print(f\"Response:\\n{response}\")\n",
        "#   print(\"===============\")"
      ]
    },
    {
      "cell_type": "markdown",
      "id": "-CmB2ZT9Tn1l",
      "metadata": {},
      "source": [
        "## Train\n",
        "\n",
        "Let's set up all the configs first - checkpointing, metric logging and training.\n",
        "We then train the model."
      ]
    },
    {
      "cell_type": "code",
      "execution_count": null,
      "id": "mHzdsYsGTn1l",
      "metadata": {},
      "outputs": [],
      "source": [
        "# Ckpt saving\n",
        "checkpointing_options = ocp.CheckpointManagerOptions(\n",
        "    save_interval_steps=SAVE_INTERVAL_STEPS, max_to_keep=MAX_TO_KEEP\n",
        ")\n",
        "\n",
        "# Metrics logger\n",
        "metrics_logging_options = metrics_logger.MetricsLoggerOptions(\n",
        "    log_dir=\"/content/tmp/tensorboard/grpo\", flush_every_n_steps=20\n",
        ")"
      ]
    },
    {
      "cell_type": "code",
      "execution_count": null,
      "id": "u1Sc1fNC_CJ7",
      "metadata": {},
      "outputs": [],
      "source": [
        "# Logs\n",
        "%load_ext tensorboard\n",
        "%tensorboard --logdir /content/tmp/tensorboard/grpo --port=0"
      ]
    },
    {
      "cell_type": "code",
      "execution_count": null,
      "id": "_6VxFW1ZTn1l",
      "metadata": {},
      "outputs": [],
      "source": [
        "# Training config\n",
        "training_config = GrpoTrainingConfig(\n",
        "    max_prompt_length=MAX_PROMPT_LENGTH,\n",
        "    total_generation_steps=TOTAL_GENERATION_STEPS,\n",
        "    num_generations=NUM_GENERATIONS,\n",
        "    num_iterations=NUM_ITERATIONS,\n",
        "    beta=BETA,\n",
        "    epsilon=EPSILON,\n",
        "    temperature=TEMPERATURE,\n",
        "    top_p=TOP_P,\n",
        "    top_k=TOP_K,\n",
        "    eval_every_n_steps=EVAL_EVERY_N_STEPS,\n",
        "    max_steps=MAX_STEPS,\n",
        "    # metrics logging\n",
        "    metrics_logging_options=metrics_logging_options,\n",
        "    # checkpoint saving\n",
        "    checkpoint_root_directory=CKPT_DIR,\n",
        "    checkpointing_options=checkpointing_options,\n",
        ")"
      ]
    },
    {
      "cell_type": "code",
      "execution_count": null,
      "id": "OIe1lO08Tn1l",
      "metadata": {},
      "outputs": [],
      "source": [
        "# Sampler\n",
        "gemma_tokenizer = data_lib.GemmaTokenizer()\n",
        "sampler = sampler_lib.Sampler(\n",
        "    transformer=lora_gemma,\n",
        "    tokenizer=gemma_tokenizer,\n",
        "    cache_config=sampler_lib.CacheConfig(\n",
        "        cache_size=MAX_PROMPT_LENGTH + TOTAL_GENERATION_STEPS + 256,\n",
        "        num_layers=model_config.num_layers,\n",
        "        num_kv_heads=model_config.num_kv_heads,\n",
        "        head_dim=model_config.head_dim,\n",
        "    ),\n",
        ")\n",
        "\n",
        "# Optimizer, learning rate scheduler, gradient clipping\n",
        "optimizer = optax.adamw(\n",
        "    learning_rate=optax.schedules.warmup_cosine_decay_schedule(\n",
        "        init_value=0.0,\n",
        "        peak_value=LEARNING_RATE,\n",
        "        warmup_steps=WARMUP_STEPS,\n",
        "        decay_steps=MAX_STEPS,\n",
        "        end_value=0.0,\n",
        "    ),\n",
        "    b1=B1,\n",
        "    b2=B2,\n",
        "    weight_decay=WEIGHT_DECAY,\n",
        ")\n",
        "if MAX_GRAD_NORM is not None:\n",
        "  optimizer = optax.chain(\n",
        "      optax.clip_by_global_norm(max_norm=MAX_GRAD_NORM),\n",
        "      optimizer,\n",
        "  )"
      ]
    },
    {
      "cell_type": "code",
      "execution_count": null,
      "id": "_6VxFW1ZTn1l",
      "metadata": {},
      "outputs": [],
      "source": [
        "# Training config\n",
        "cluster_config = rl_cluster_lib.ClusterConfig(\n",
        "    role_to_mesh={\n",
        "        rl_cluster_lib.Role.ACTOR: mesh,\n",
        "        rl_cluster_lib.Role.REFERENCE: mesh,\n",
        "        rl_cluster_lib.Role.ROLLOUT: mesh,\n",
        "    },\n",
        "    rollout_engine='vanilla',\n",
        "    offload_to_cpu=False,\n",
        "    training_config=rl_cluster_lib.RLTrainingConfig(\n",
        "        actor_optimizer=optimizer,\n",
        "        eval_every_n_steps=EVAL_EVERY_N_STEPS,\n",
        "        max_steps=MAX_STEPS,\n",
        "        gradient_accumulation_steps=1,\n",
        "        # metrics logging\n",
        "        metrics_logging_options=metrics_logging_options,\n",
        "        # checkpoint saving\n",
        "        checkpoint_root_directory=CKPT_DIR,\n",
        "        checkpointing_options=checkpointing_options,\n",
        "    ),\n",
        "    rollout_config=base_rollout.RolloutConfig(\n",
        "        max_tokens_to_generate=TOTAL_GENERATION_STEPS,\n",
        "        max_prompt_length=MAX_PROMPT_LENGTH,\n",
        "        kv_cache_size=MAX_PROMPT_LENGTH + TOTAL_GENERATION_STEPS + 256,\n",
        "        temperature=TEMPERATURE,\n",
        "        top_p=TOP_P,\n",
        "        top_k=TOP_K,\n",
        "    ),\n",
        ")\n",
        "\n",
        "grpo_config = GrpoConfig(\n",
        "    num_generations=NUM_GENERATIONS,\n",
        "    num_iterations=NUM_ITERATIONS,\n",
        "    beta=BETA,\n",
        "    epsilon=EPSILON,\n",
        ")"
      ]
    },
    {
      "cell_type": "code",
      "execution_count": null,
      "id": "OIe1lO08Tn1l",
      "metadata": {},
      "outputs": [],
      "source": [
        "# RL cluster\n",
        "rl_cluster = rl_cluster_lib.RLCluster(\n",
        "    actor=lora_gemma,\n",
        "    reference=gemma,\n",
        "    tokenizer=data_lib.GemmaTokenizer(),\n",
        "    cluster_config=cluster_config,\n",
        ")\n",
        "\n",
        "# GRPO Trainer\n",
        "grpo_trainer = GrpoLearner(\n",
        "    rl_cluster=rl_cluster,\n",
        "    reward_fns=[\n",
        "        match_format_exactly,\n",
        "        match_format_approximately,\n",
        "        check_answer,\n",
        "        check_numbers,\n",
        "    ],\n",
        "    grpo_config=grpo_config,\n",
        ")"
      ]
    },
    {
      "cell_type": "code",
      "execution_count": null,
      "id": "S27XDebYTn1l",
      "metadata": {},
      "outputs": [],
      "source": [
        "with mesh:\n",
        "  grpo_trainer.train(dataset)"
      ]
    },
    {
      "cell_type": "markdown",
      "id": "FzIP8glkTn1l",
      "metadata": {},
      "source": [
        "## Evaluate\n",
        "\n",
        "Let's evaluate our model!"
      ]
    },
    {
      "cell_type": "code",
      "execution_count": null,
      "id": "V-73HfP1Tn1l",
      "metadata": {},
      "outputs": [],
      "source": [
        "# Load checkpoint first.\n",
        "\n",
        "trained_ckpt_path = os.path.join(CKPT_DIR, str(MAX_STEPS), \"model_params\")\n",
        "\n",
        "abs_params = jax.tree.map(\n",
        "    lambda x: jax.ShapeDtypeStruct(x.shape, x.dtype),\n",
        "    nnx.state(lora_gemma, nnx.LoRAParam),\n",
        ")\n",
        "checkpointer = ocp.StandardCheckpointer()\n",
        "trained_lora_params = checkpointer.restore(trained_ckpt_path, target=abs_params)\n",
        "\n",
        "nnx.update(\n",
        "    lora_gemma,\n",
        "    jax.tree.map(\n",
        "        lambda a, b: b,\n",
        "        nnx.state(lora_gemma, nnx.LoRAParam),\n",
        "        trained_lora_params,\n",
        "    ),\n",
        ")"
      ]
    },
    {
      "cell_type": "code",
      "execution_count": null,
      "id": "1vY9kl-ITn1l",
      "metadata": {},
      "outputs": [],
      "source": [
        "gemma_tokenizer = data_lib.GemmaTokenizer()\n",
        "sampler = sampler_lib.Sampler(\n",
        "    transformer=lora_gemma,\n",
        "    tokenizer=gemma_tokenizer,\n",
        "    cache_config=sampler_lib.CacheConfig(\n",
        "        cache_size=MAX_PROMPT_LENGTH + TOTAL_GENERATION_STEPS + 256,\n",
        "        num_layers=model_config.num_layers,\n",
        "        num_kv_heads=model_config.num_kv_heads,\n",
        "        head_dim=model_config.head_dim,\n",
        "    ),\n",
        ")"
      ]
    },
    {
      "cell_type": "code",
      "execution_count": null,
      "id": "nz0q_gGHqYz6",
      "metadata": {},
      "outputs": [],
      "source": [
        "(corr, total, accuracy, partial_accuracy, format_accuracy) = evaluate(\n",
        "    test_dataset,\n",
        "    sampler,\n",
        "    **GENERATION_CONFIGS[\"greedy\"],\n",
        ")\n",
        "print(\n",
        "    f\"{corr=}, {total=}, {accuracy=}%, {partial_accuracy=}%,\"\n",
        "    f\" {format_accuracy=}%\"\n",
        ")"
      ]
    },
    {
      "cell_type": "code",
      "execution_count": null,
      "id": "Jd9gpYVpUd3_",
      "metadata": {},
      "outputs": [],
      "source": [
        "# for eval_example in QUALITATIVE_EVAL_EXAMPLES:\n",
        "#   question = eval_example[\"question\"]\n",
        "#   answer = eval_example[\"answer\"]\n",
        "#   response = generate(\n",
        "#       question,\n",
        "#       sampler,\n",
        "#       temperature=INFERENCE_TEMPERATURE,\n",
        "#       top_k=INFERENCE_TOP_K,\n",
        "#       top_p=INFERENCE_TOP_P,\n",
        "#   )\n",
        "\n",
        "#   print(f\"Question:\\n{question}\")\n",
        "#   print(f\"Answer:\\n{answer}\")\n",
        "#   print(f\"Response:\\n{response}\")\n",
        "#   print(\"===============\")"
      ]
    },
    {
      "cell_type": "code",
      "execution_count": null,
      "id": "RrE_Rvaz_8CV",
      "metadata": {},
      "outputs": [],
      "source": []
    }
  ],
  "metadata": {
    "kernelspec": {
      "display_name": "venv-py311",
      "language": "python",
      "name": "python3"
    },
    "language_info": {
      "codemirror_mode": {
        "name": "ipython",
        "version": 3
      },
      "file_extension": ".py",
      "mimetype": "text/x-python",
      "name": "python",
      "nbconvert_exporter": "python",
      "pygments_lexer": "ipython3",
      "version": "3.11.13"
    }
  },
  "nbformat": 4,
  "nbformat_minor": 5
}
