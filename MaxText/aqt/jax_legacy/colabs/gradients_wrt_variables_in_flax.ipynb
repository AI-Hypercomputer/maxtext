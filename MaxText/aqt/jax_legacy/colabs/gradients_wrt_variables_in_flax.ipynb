{
  "cells": [
    {
      "cell_type": "markdown",
      "metadata": {
        "id": "pb5pipCTurpo"
      },
      "source": [
        "Copyright 2021 Google LLC\n",
        "\n",
        "Licensed under the Apache License, Version 2.0 (the \"License\");\n",
        "you may not use this file except in compliance with the License.\n",
        "You may obtain a copy of the License at\n",
        "\n",
        "    https://www.apache.org/licenses/LICENSE-2.0\n",
        "\n",
        "Unless required by applicable law or agreed to in writing, software\n",
        "distributed under the License is distributed on an \"AS IS\" BASIS,\n",
        "WITHOUT WARRANTIES OR CONDITIONS OF ANY KIND, either express or implied.\n",
        "See the License for the specific language governing permissions and\n",
        "limitations under the License."
      ]
    },
    {
      "cell_type": "markdown",
      "metadata": {
        "id": "lHGNBNRti1I8"
      },
      "source": [
        "# Example of taking gradients with respect to flax variables inside a flax module"
      ]
    },
    {
      "cell_type": "markdown",
      "metadata": {
        "id": "KyANAaZtbs86"
      },
      "source": [
        "## Setting up our environment\n",
        "\n",
        "Here we provide the code needed to set up the environment for our notebook."
      ]
    },
    {
      "cell_type": "code",
      "execution_count": 1,
      "metadata": {
        "executionInfo": {
          "elapsed": 708,
          "status": "ok",
          "timestamp": 1610743088397,
          "user": {
            "displayName": "",
            "photoUrl": "",
            "userId": ""
          },
          "user_tz": 480
        },
        "id": "qdrEVv9tinJn",
        "outputId": "e1c0854a-38a4-4e29-edb4-051ab20bdc0c"
      },
      "outputs": [
        {
          "name": "stdout",
          "output_type": "stream",
          "text": [
            "/bin/sh: pip: command not found\n",
            "/bin/sh: pip: command not found\n"
          ]
        }
      ],
      "source": [
        "# Install the latest JAXlib version.\n",
        "!pip install --upgrade -q pip jax jaxlib\n",
        "# Install Flax at head:\n",
        "!pip install --upgrade -q git+https://github.com/google/flax.git"
      ]
    },
    {
      "cell_type": "code",
      "execution_count": 2,
      "metadata": {
        "executionInfo": {
          "elapsed": 8295,
          "status": "ok",
          "timestamp": 1610743096700,
          "user": {
            "displayName": "",
            "photoUrl": "",
            "userId": ""
          },
          "user_tz": 480
        },
        "id": "kN6bZDaReZO2"
      },
      "outputs": [],
      "source": [
        "import jax\n",
        "from typing import Any, Callable, Sequence, Optional\n",
        "from jax import lax, random, numpy as jnp\n",
        "import flax\n",
        "from flax.core import freeze, unfreeze\n",
        "from flax import linen as nn\n",
        "\n",
        "from jax.config import config\n",
      ]
    },
    {
      "cell_type": "markdown",
      "metadata": {
        "id": "xER6Z3xnxT94"
      },
      "source": [
        "### Create a toy flax module with parameters and variable"
      ]
    },
    {
      "cell_type": "code",
      "execution_count": 49,
      "metadata": {
        "executionInfo": {
          "elapsed": 573,
          "status": "ok",
          "timestamp": 1610743733695,
          "user": {
            "displayName": "",
            "photoUrl": "",
            "userId": ""
          },
          "user_tz": 480
        },
        "id": "T9jW0s-7jnJG"
      },
      "outputs": [],
      "source": [
        "class ToyModule(nn.Module):\n",
        "  \"\"\"Toy flax module with one dense layer and one flax variable.\"\"\"\n",
        "\n",
        "  @nn.compact\n",
        "  def __call__(self, x):\n",
        "    is_initialized = self.has_variable('stats', 'counter')\n",
        "    # add a variable\n",
        "    v = self.variable('stats', 'counter', jnp.zeros, x.shape[1:])\n",
        "    # update variable if initialized\n",
        "    if is_initialized:\n",
        "      v.value += 1\n",
        "    x = v.value * x\n",
        "    x = nn.Dense(features=3)(x)\n",
        "    x = nn.log_softmax(x)\n",
        "    return x"
      ]
    },
    {
      "cell_type": "code",
      "execution_count": 50,
      "metadata": {
        "executionInfo": {
          "elapsed": 324,
          "status": "ok",
          "timestamp": 1610743734024,
          "user": {
            "displayName": "",
            "photoUrl": "",
            "userId": ""
          },
          "user_tz": 480
        },
        "id": "ZbsV2Uhbjqjo"
      },
      "outputs": [],
      "source": [
        "def onehot(labels, num_classes=3):\n",
        "  x = (labels[..., None] == jnp.arange(num_classes)[None])\n",
        "  return x.astype(jnp.float32)\n",
        "\n",
        "def cross_entropy_loss(logits, labels):\n",
        "  return -jnp.mean(jnp.sum(onehot(labels) * logits, axis=-1))\n",
        "\n",
        "def loss_fn(variables):\n",
        "  dummy_input = jax.random.normal(key, (1, 10))\n",
        "  dummy_label = jnp.array([1])\n",
        "  # Mark variable collection as mutable\n",
        "  logits, updated_state = ToyModule().apply(variables, dummy_input, mutable=['stats'])\n",
        "  print(logits)\n",
        "  loss = cross_entropy_loss(logits, dummy_label)\n",
        "  return loss, logits"
      ]
    },
    {
      "cell_type": "markdown",
      "metadata": {
        "id": "4-_eyRtkydCl"
      },
      "source": [
        "### Initialize model"
      ]
    },
    {
      "cell_type": "code",
      "execution_count": 51,
      "metadata": {
        "executionInfo": {
          "elapsed": 776,
          "status": "ok",
          "timestamp": 1610743734806,
          "user": {
            "displayName": "",
            "photoUrl": "",
            "userId": ""
          },
          "user_tz": 480
        },
        "id": "N1WXAYDHkFms"
      },
      "outputs": [],
      "source": [
        "key = jax.random.PRNGKey(0)\n",
        "init_shape = jnp.ones((1, 10), jnp.float32)\n",
        "params_and_variables = ToyModule().init(key, init_shape)"
      ]
    },
    {
      "cell_type": "markdown",
      "metadata": {
        "id": "pCMsSjlSypE4"
      },
      "source": [
        "### Call loss_fn with initial parameters and variables"
      ]
    },
    {
      "cell_type": "code",
      "execution_count": 52,
      "metadata": {
        "executionInfo": {
          "elapsed": 719,
          "status": "ok",
          "timestamp": 1610743736197,
          "user": {
            "displayName": "",
            "photoUrl": "",
            "userId": ""
          },
          "user_tz": 480
        },
        "id": "k_8p1W_HlTkh",
        "outputId": "685f8a92-615c-4086-bcfd-cda52599256f"
      },
      "outputs": [
        {
          "name": "stdout",
          "output_type": "stream",
          "text": [
            "[[-0.7990668 -1.3123766 -1.2691445]]\n"
          ]
        },
        {
          "data": {
            "text/plain": [
              "(DeviceArray(1.3123766, dtype=float32),\n",
              " DeviceArray([[-0.7990668, -1.3123766, -1.2691445]], dtype=float32))"
            ]
          },
          "execution_count": 52,
          "metadata": {
            "tags": []
          },
          "output_type": "execute_result"
        }
      ],
      "source": [
        "loss_fn(params_and_variables)"
      ]
    },
    {
      "cell_type": "markdown",
      "metadata": {
        "id": "AzrmtjhLyfZ4"
      },
      "source": [
        "### Prepare gradient function of `loss_fn`"
      ]
    },
    {
      "cell_type": "code",
      "execution_count": 53,
      "metadata": {
        "executionInfo": {
          "elapsed": 313,
          "status": "ok",
          "timestamp": 1610743736517,
          "user": {
            "displayName": "",
            "photoUrl": "",
            "userId": ""
          },
          "user_tz": 480
        },
        "id": "YT0bsWZQom9Y"
      },
      "outputs": [],
      "source": [
        "grad_fn = jax.value_and_grad(loss_fn, has_aux=True)"
      ]
    },
    {
      "cell_type": "markdown",
      "metadata": {
        "id": "rh6_8fylx6bV"
      },
      "source": [
        "### Compute gradients wrt all parameters and variables"
      ]
    },
    {
      "cell_type": "code",
      "execution_count": 54,
      "metadata": {
        "executionInfo": {
          "elapsed": 500,
          "status": "ok",
          "timestamp": 1610743737351,
          "user": {
            "displayName": "",
            "photoUrl": "",
            "userId": ""
          },
          "user_tz": 480
        },
        "id": "dRCeQm36pmn9",
        "outputId": "cef2f5ce-23d4-4b0f-a340-e7d5f92f7d3b"
      },
      "outputs": [
        {
          "name": "stdout",
          "output_type": "stream",
          "text": [
            "Traced\u003cConcreteArray([[-0.7990668 -1.3123766 -1.2691445]])\u003ewith\u003cJVPTrace(level=2/0)\u003e\n",
            "  with primal = DeviceArray([[-0.7990668, -1.3123766, -1.2691445]], dtype=float32)\n",
            "       tangent = Traced\u003cShapedArray(float32[1,3]):JaxprTrace(level=1/0)\u003e\n"
          ]
        }
      ],
      "source": [
        "(_, logits), grad = grad_fn(params_and_variables)"
      ]
    },
    {
      "cell_type": "markdown",
      "metadata": {
        "id": "4gzQw2tmyF7-"
      },
      "source": [
        "### Gradients wrt to variable"
      ]
    },
    {
      "cell_type": "code",
      "execution_count": 55,
      "metadata": {
        "executionInfo": {
          "elapsed": 329,
          "status": "ok",
          "timestamp": 1610743737983,
          "user": {
            "displayName": "",
            "photoUrl": "",
            "userId": ""
          },
          "user_tz": 480
        },
        "id": "zIUNfymeqdkF",
        "outputId": "c3e4b94b-f844-456d-9e34-db2bf4f94e4c"
      },
      "outputs": [
        {
          "data": {
            "text/plain": [
              "(10,)"
            ]
          },
          "execution_count": 55,
          "metadata": {
            "tags": []
          },
          "output_type": "execute_result"
        }
      ],
      "source": [
        "grad['stats']['counter'].shape"
      ]
    },
    {
      "cell_type": "code",
      "execution_count": 56,
      "metadata": {
        "executionInfo": {
          "elapsed": 303,
          "status": "ok",
          "timestamp": 1610743739305,
          "user": {
            "displayName": "",
            "photoUrl": "",
            "userId": ""
          },
          "user_tz": 480
        },
        "id": "6lmJBzlvv_Xs",
        "outputId": "cdf87dd9-1e9e-4729-825d-1c53bf9b00ae"
      },
      "outputs": [
        {
          "data": {
            "text/plain": [
              "DeviceArray([ 0.10620452,  0.04868598,  0.01061121,  0.05297215,\n",
              "             -0.08144682, -0.02126385,  0.23443498, -0.27031758,\n",
              "              0.18989496, -0.02676392], dtype=float32)"
            ]
          },
          "execution_count": 56,
          "metadata": {
            "tags": []
          },
          "output_type": "execute_result"
        }
      ],
      "source": [
        "grad['stats']['counter']"
      ]
    },
    {
      "cell_type": "markdown",
      "metadata": {
        "id": "WJLtVZzJyIoa"
      },
      "source": [
        "### Gradients wrt to params"
      ]
    },
    {
      "cell_type": "code",
      "execution_count": 58,
      "metadata": {
        "executionInfo": {
          "elapsed": 421,
          "status": "ok",
          "timestamp": 1610743752927,
          "user": {
            "displayName": "",
            "photoUrl": "",
            "userId": ""
          },
          "user_tz": 480
        },
        "id": "TlX1bLcgzxZL",
        "outputId": "21673521-725e-40bb-849d-e49b42ce9c5e"
      },
      "outputs": [
        {
          "data": {
            "text/plain": [
              "(10, 3)"
            ]
          },
          "execution_count": 58,
          "metadata": {
            "tags": []
          },
          "output_type": "execute_result"
        }
      ],
      "source": [
        "grad['params']['Dense_0']['kernel'].shape"
      ]
    },
    {
      "cell_type": "code",
      "execution_count": 57,
      "metadata": {
        "executionInfo": {
          "elapsed": 349,
          "status": "ok",
          "timestamp": 1610743739659,
          "user": {
            "displayName": "",
            "photoUrl": "",
            "userId": ""
          },
          "user_tz": 480
        },
        "id": "NOFqLWN4wCfE",
        "outputId": "a171a2aa-3edf-441c-9515-d2b4be6b76fe"
      },
      "outputs": [
        {
          "data": {
            "text/plain": [
              "DeviceArray([[-0.16735636,  0.2719463 , -0.10458997],\n",
              "             [ 0.11883753, -0.19310547,  0.07426795],\n",
              "             [-0.08209157,  0.133395  , -0.05130343],\n",
              "             [-0.3313836 ,  0.53848296, -0.2070994 ],\n",
              "             [-0.198026  ,  0.32178307, -0.12375707],\n",
              "             [-0.06842665,  0.11119014, -0.04276349],\n",
              "             [-0.30194026,  0.4906389 , -0.18869866],\n",
              "             [-0.2657403 ,  0.43181565, -0.16607536],\n",
              "             [ 0.3290759 , -0.53473306,  0.20565718],\n",
              "             [ 0.25514343, -0.41459623,  0.15945281]], dtype=float32)"
            ]
          },
          "execution_count": 57,
          "metadata": {
            "tags": []
          },
          "output_type": "execute_result"
        }
      ],
      "source": [
        "grad['params']['Dense_0']['kernel']"
      ]
    }
  ],
  "metadata": {
    "colab": {
      "collapsed_sections": [],
      "name": "gradients_wrt_variables_in_flax.ipynb",
      "provenance": [
        {
          "file_id": "1-F6IZQQMyskIMVCxx4gHR4eVVrkh4mh5",
          "timestamp": 1610742851877
        }
      ],
      "toc_visible": true
    },
    "kernelspec": {
      "display_name": "Python 3",
      "name": "python3"
    }
  },
  "nbformat": 4,
  "nbformat_minor": 0
}
